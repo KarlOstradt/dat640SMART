{
 "cells": [
  {
   "cell_type": "markdown",
   "metadata": {},
   "source": [
    "# Literal classifier\n",
    "This notebook trains the literal category classifier.\n",
    "\n",
    "The type classifier is saved as: 'type_literal_classifier.sav'\n",
    "\n",
    "Use the vectorizer 'literal_vectorizer.sav' to extract the feature vectors"
   ]
  },
  {
   "cell_type": "code",
   "execution_count": 1,
   "metadata": {},
   "outputs": [],
   "source": [
    "import json\n",
    "from sklearn.neural_network import MLPClassifier\n",
    "import numpy as np\n",
    "import pickle\n",
    "import utils\n",
    "import gensim \n",
    "from gensim.models import Word2Vec \n",
    "from nltk.tokenize import word_tokenize \n",
    "from nltk.corpus import stopwords \n",
    "from elasticsearch import Elasticsearch"
   ]
  },
  {
   "cell_type": "code",
   "execution_count": 2,
   "metadata": {},
   "outputs": [],
   "source": [
    "train = utils.load_dataset('datasets/DBpedia/train.json')\n",
    "test = utils.load_dataset('datasets/DBpedia/test_grnd.json')"
   ]
  },
  {
   "cell_type": "code",
   "execution_count": 3,
   "metadata": {},
   "outputs": [],
   "source": [
    "X_train, y_train, X_test, y_test = utils.prepare_X_y(train, test)"
   ]
  },
  {
   "cell_type": "markdown",
   "metadata": {},
   "source": [
    "Extract the literal train/test objects with their indices as keys so that we can iterate over them in correct order.\n"
   ]
  },
  {
   "cell_type": "code",
   "execution_count": 4,
   "metadata": {},
   "outputs": [],
   "source": [
    "_, literal_map, _ = utils.split_bool_literal_reference(X_train, y_train)\n",
    "_, test_literal_map, _ = utils.split_bool_literal_reference(X_test, y_test)"
   ]
  },
  {
   "cell_type": "markdown",
   "metadata": {},
   "source": [
    "Build train and test sets consisting only of literal objects.\n",
    "Then extract the features. "
   ]
  },
  {
   "cell_type": "code",
   "execution_count": 5,
   "metadata": {},
   "outputs": [],
   "source": [
    "X_train_literal = list(literal_map.values())\n",
    "y_train_literal = []\n",
    "for i in list(literal_map.keys()):\n",
    "    y_train_literal.append(train[i]['type'][0])\n",
    "    \n",
    "X_test_literal = list(test_literal_map.values())\n",
    "y_test_literal = []\n",
    "for i in list(test_literal_map.keys()):\n",
    "    y_test_literal.append(test[i]['type'][0])\n",
    "    \n",
    "train_vectors_literal, test_vectors_literal = utils.extract_features(X_train_literal, X_test_literal, 'literal_vectorizer.sav')"
   ]
  },
  {
   "cell_type": "markdown",
   "metadata": {},
   "source": [
    "Train the type classifier"
   ]
  },
  {
   "cell_type": "code",
   "execution_count": 6,
   "metadata": {},
   "outputs": [
    {
     "name": "stdout",
     "output_type": "stream",
     "text": [
      "Accuracy: 0.9502407704654896\n"
     ]
    }
   ],
   "source": [
    "clf = MLPClassifier(random_state=1, max_iter=300)\n",
    "clf.fit(train_vectors_literal, y_train_literal)\n",
    "pred_literal = clf.predict(test_vectors_literal)\n",
    "print(\"Accuracy:\", sum(pred_literal==y_test_literal)/len(pred_literal))\n",
    "pickle.dump(clf, open('type_literal_classifier.sav', 'wb'))"
   ]
  }
 ],
 "metadata": {
  "kernelspec": {
   "display_name": "Python 3",
   "language": "python",
   "name": "python3"
  },
  "language_info": {
   "codemirror_mode": {
    "name": "ipython",
    "version": 3
   },
   "file_extension": ".py",
   "mimetype": "text/x-python",
   "name": "python",
   "nbconvert_exporter": "python",
   "pygments_lexer": "ipython3",
   "version": "3.8.3"
  }
 },
 "nbformat": 4,
 "nbformat_minor": 4
}
