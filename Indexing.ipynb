{
 "cells": [
  {
   "cell_type": "markdown",
   "metadata": {},
   "source": [
    "# Indexing\n",
    "This notebook indexes the training set using Elasticsearch. Each document has the fields: question, category and type. This allows for searching for similar questions and then extract their category and/or type.  "
   ]
  },
  {
   "cell_type": "code",
   "execution_count": 1,
   "metadata": {},
   "outputs": [],
   "source": [
    "import elasticsearch\n",
    "import math\n",
    "import numpy as np\n",
    "import os\n",
    "import pytest\n",
    "import random\n",
    "import requests\n",
    "import tarfile\n",
    "import utils\n",
    "\n",
    "from collections import Counter\n",
    "from collections import defaultdict\n",
    "from elasticsearch import Elasticsearch"
   ]
  },
  {
   "cell_type": "code",
   "execution_count": 2,
   "metadata": {},
   "outputs": [
    {
     "data": {
      "text/plain": [
       "{'name': 'Karl-PC',\n",
       " 'cluster_name': 'elasticsearch',\n",
       " 'cluster_uuid': 'c2RTr28oQWi6_aB1dQbLmA',\n",
       " 'version': {'number': '7.9.1',\n",
       "  'build_flavor': 'default',\n",
       "  'build_type': 'tar',\n",
       "  'build_hash': '083627f112ba94dffc1232e8b42b73492789ef91',\n",
       "  'build_date': '2020-09-01T21:22:21.964974Z',\n",
       "  'build_snapshot': False,\n",
       "  'lucene_version': '8.6.2',\n",
       "  'minimum_wire_compatibility_version': '6.8.0',\n",
       "  'minimum_index_compatibility_version': '6.0.0-beta1'},\n",
       " 'tagline': 'You Know, for Search'}"
      ]
     },
     "execution_count": 2,
     "metadata": {},
     "output_type": "execute_result"
    }
   ],
   "source": [
    "es = Elasticsearch()\n",
    "es.info()"
   ]
  },
  {
   "cell_type": "code",
   "execution_count": 3,
   "metadata": {},
   "outputs": [],
   "source": [
    "train = utils.load_dataset('datasets/DBpedia/train.json')"
   ]
  },
  {
   "cell_type": "code",
   "execution_count": 4,
   "metadata": {},
   "outputs": [],
   "source": [
    "INDEX_NAME = 'questions'\n",
    "\n",
    "INDEX_SETTINGS = {\n",
    "    'mappings': {\n",
    "            'properties': {\n",
    "                'question': {\n",
    "                    'type': 'text',\n",
    "                    'term_vector': 'yes',\n",
    "                    'analyzer': 'english'\n",
    "                },\n",
    "                'category': {\n",
    "                    'type': 'text',\n",
    "                    'term_vector': 'yes',\n",
    "                    'analyzer': 'english'\n",
    "                },\n",
    "                'type': {\n",
    "                    'type': 'keyword'\n",
    "                }\n",
    "            }\n",
    "        }\n",
    "    }"
   ]
  },
  {
   "cell_type": "code",
   "execution_count": 5,
   "metadata": {},
   "outputs": [],
   "source": [
    "def index_doc(es, doc, doc_id, index='questions'):\n",
    "    \"\"\"Indexes the body of a fielded document to be indexed.\n",
    "    \n",
    "    Argments:\n",
    "        es: Elasticsearch object instance.\n",
    "        doc: Dict with fields as keys and strings as values. Assumes {'title': '...', 'body': '...'}.\n",
    "        doc_id: Document ID to be used in index. \n",
    "        index: Name of index under which documents will be organized.\n",
    "    \"\"\"\n",
    "    es.index(index=index, id=doc_id, body=doc)"
   ]
  },
  {
   "cell_type": "markdown",
   "metadata": {},
   "source": [
    "Index the training set"
   ]
  },
  {
   "cell_type": "code",
   "execution_count": 6,
   "metadata": {},
   "outputs": [
    {
     "name": "stdout",
     "output_type": "stream",
     "text": [
      "Indexed documents: 13146/13146\n"
     ]
    }
   ],
   "source": [
    "if es.indices.exists(INDEX_NAME):\n",
    "    es.indices.delete(INDEX_NAME)\n",
    "    \n",
    "es.indices.create(index=INDEX_NAME, body=INDEX_SETTINGS)\n",
    "count = 0\n",
    "for x in train:\n",
    "    if x['category'] != 'resource':\n",
    "        count += 1\n",
    "        continue\n",
    "    doc = {\n",
    "        'question': x['question'],\n",
    "        'category': x['category'],\n",
    "        'type': x['type']\n",
    "    }\n",
    "\n",
    "    index_doc(es, doc, x['id'], index=INDEX_NAME)\n",
    "    count += 1\n",
    "    print('\\rIndexed documents: ' + str(count) + '/' + str(len(train)), end='', flush=True)\n",
    "print('') # Write newline"
   ]
  },
  {
   "cell_type": "code",
   "execution_count": 7,
   "metadata": {
    "scrolled": true
   },
   "outputs": [
    {
     "data": {
      "text/plain": [
       "{'_index': 'questions',\n",
       " '_type': '_doc',\n",
       " '_id': 'dbpedia_14427',\n",
       " '_version': 1,\n",
       " '_seq_no': 0,\n",
       " '_primary_term': 1,\n",
       " 'found': True,\n",
       " '_source': {'question': 'What is the name of the opera based on Twelfth Night ?',\n",
       "  'category': 'resource',\n",
       "  'type': ['dbo:Opera', 'dbo:MusicalWork', 'dbo:Work']}}"
      ]
     },
     "execution_count": 7,
     "metadata": {},
     "output_type": "execute_result"
    }
   ],
   "source": [
    "es.get(index=INDEX_NAME, id='dbpedia_14427')"
   ]
  },
  {
   "cell_type": "code",
   "execution_count": 8,
   "metadata": {
    "scrolled": true
   },
   "outputs": [
    {
     "data": {
      "text/plain": [
       "[{'_index': 'questions',\n",
       "  '_type': '_doc',\n",
       "  '_id': 'dbpedia_16642',\n",
       "  '_score': 9.011995,\n",
       "  '_source': {'question': 'Who manufactures Coca-Cola?',\n",
       "   'category': 'resource',\n",
       "   'type': ['dbo:Company', 'dbo:Organisation', 'dbo:Agent']}},\n",
       " {'_index': 'questions',\n",
       "  '_type': '_doc',\n",
       "  '_id': 'dbpedia_3697',\n",
       "  '_score': 7.914068,\n",
       "  '_source': {'question': 'What products does Coca-Cola produce?',\n",
       "   'category': 'resource',\n",
       "   'type': ['dbo:Company', 'dbo:Organisation', 'dbo:Agent']}},\n",
       " {'_index': 'questions',\n",
       "  '_type': '_doc',\n",
       "  '_id': 'dbpedia_11504',\n",
       "  '_score': 7.914068,\n",
       "  '_source': {'question': 'Which is the public company for the manufacturing of Coca-Cola?',\n",
       "   'category': 'resource',\n",
       "   'type': ['dbo:Company', 'dbo:Organisation', 'dbo:Agent']}},\n",
       " {'_index': 'questions',\n",
       "  '_type': '_doc',\n",
       "  '_id': 'dbpedia_15758',\n",
       "  '_score': 7.4596634,\n",
       "  '_source': {'question': 'What is the patent for the products produced by the Coca-Cola Company?',\n",
       "   'category': 'resource',\n",
       "   'type': ['dbo:Activity']}}]"
      ]
     },
     "execution_count": 8,
     "metadata": {},
     "output_type": "execute_result"
    }
   ],
   "source": [
    "q = 'Is cola healthy?'\n",
    "\n",
    "es.search(index=INDEX_NAME, q=q, _source=True, size=5).get('hits', {}).get('hits', {})"
   ]
  }
 ],
 "metadata": {
  "kernelspec": {
   "display_name": "Python 3",
   "language": "python",
   "name": "python3"
  },
  "language_info": {
   "codemirror_mode": {
    "name": "ipython",
    "version": 3
   },
   "file_extension": ".py",
   "mimetype": "text/x-python",
   "name": "python",
   "nbconvert_exporter": "python",
   "pygments_lexer": "ipython3",
   "version": "3.8.3"
  }
 },
 "nbformat": 4,
 "nbformat_minor": 4
}
