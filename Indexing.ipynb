{
 "cells": [
  {
   "cell_type": "code",
   "execution_count": 3,
   "metadata": {},
   "outputs": [],
   "source": [
    "import elasticsearch\n",
    "import math\n",
    "import numpy as np\n",
    "import os\n",
    "import pytest\n",
    "import random\n",
    "import requests\n",
    "import tarfile\n",
    "import utils\n",
    "\n",
    "from collections import Counter\n",
    "from collections import defaultdict\n",
    "from elasticsearch import Elasticsearch"
   ]
  },
  {
   "cell_type": "code",
   "execution_count": 8,
   "metadata": {},
   "outputs": [
    {
     "data": {
      "text/plain": [
       "{'name': 'Karl-PC',\n",
       " 'cluster_name': 'elasticsearch',\n",
       " 'cluster_uuid': 'c2RTr28oQWi6_aB1dQbLmA',\n",
       " 'version': {'number': '7.9.1',\n",
       "  'build_flavor': 'default',\n",
       "  'build_type': 'tar',\n",
       "  'build_hash': '083627f112ba94dffc1232e8b42b73492789ef91',\n",
       "  'build_date': '2020-09-01T21:22:21.964974Z',\n",
       "  'build_snapshot': False,\n",
       "  'lucene_version': '8.6.2',\n",
       "  'minimum_wire_compatibility_version': '6.8.0',\n",
       "  'minimum_index_compatibility_version': '6.0.0-beta1'},\n",
       " 'tagline': 'You Know, for Search'}"
      ]
     },
     "execution_count": 8,
     "metadata": {},
     "output_type": "execute_result"
    }
   ],
   "source": [
    "es = Elasticsearch()\n",
    "es.info()"
   ]
  },
  {
   "cell_type": "code",
   "execution_count": 4,
   "metadata": {},
   "outputs": [],
   "source": [
    "train = utils.load_dataset('datasets/Wikidata/lcquad2_anstype_wikidata_train.json')\n",
    "test = utils.load_dataset('datasets/Wikidata/lcquad2_anstype_wikidata_test_gold.json')"
   ]
  },
  {
   "cell_type": "code",
   "execution_count": 14,
   "metadata": {},
   "outputs": [],
   "source": [
    "FIELDS = ['id', 'question', 'category', 'type']\n",
    "\n",
    "INDEX_NAME = 'questions'\n",
    "\n",
    "INDEX_SETTINGS = {\n",
    "    'mappings': {\n",
    "            'properties': {\n",
    "#                 'id': {\n",
    "#                     'type': 'text',\n",
    "#                     'term_vector': 'yes',\n",
    "#                     'analyzer': 'english'\n",
    "#                 },\n",
    "                'question': {\n",
    "                    'type': 'text',\n",
    "                    'term_vector': 'yes',\n",
    "                    'analyzer': 'english'\n",
    "                },\n",
    "                'category': {\n",
    "                    'type': 'text',\n",
    "                    'term_vector': 'yes',\n",
    "                    'analyzer': 'english'\n",
    "                },\n",
    "                'type': {\n",
    "                    'type': 'keyword',\n",
    "#                     'term_vector': 'yes',\n",
    "#                     'analyzer': 'english'\n",
    "                }\n",
    "            }\n",
    "        }\n",
    "    }"
   ]
  },
  {
   "cell_type": "code",
   "execution_count": 24,
   "metadata": {},
   "outputs": [],
   "source": [
    "def index_doc(es, doc, doc_id, index='questions'):\n",
    "    \"\"\"Indexes the body of a fielded document to be indexed.\n",
    "    \n",
    "    Argments:\n",
    "        es: Elasticsearch object instance.\n",
    "        doc: Dict with fields as keys and strings as values. Assumes {'title': '...', 'body': '...'}.\n",
    "        doc_id: Document ID to be used in index. \n",
    "        index: Name of index under which documents will be organized.\n",
    "    \"\"\"\n",
    "    es.index(index=index, id=doc_id, body=doc)"
   ]
  },
  {
   "cell_type": "code",
   "execution_count": 28,
   "metadata": {},
   "outputs": [
    {
     "name": "stdout",
     "output_type": "stream",
     "text": [
      "Indexed documents: 11683/18251\n"
     ]
    }
   ],
   "source": [
    "if es.indices.exists(INDEX_NAME):\n",
    "    es.indices.delete(INDEX_NAME)\n",
    "    \n",
    "es.indices.create(index=INDEX_NAME, body=INDEX_SETTINGS)\n",
    "count = 0\n",
    "for x in train:\n",
    "#     print(x)\n",
    "#     break\n",
    "    if x['category'] != 'resource':\n",
    "        continue\n",
    "    doc = {\n",
    "        'question': x['question'],\n",
    "        'category': x['category'],\n",
    "        'type': x['type']\n",
    "    }\n",
    "\n",
    "    index_doc(es, doc, x['id'], index=INDEX_NAME)\n",
    "    count += 1\n",
    "    print('\\rIndexed documents: ' + str(count) + '/' + str(len(train)), end='', flush=True)\n",
    "print('') # Write newline"
   ]
  },
  {
   "cell_type": "code",
   "execution_count": 32,
   "metadata": {
    "scrolled": true
   },
   "outputs": [
    {
     "data": {
      "text/plain": [
       "{'_index': 'questions',\n",
       " '_type': '_doc',\n",
       " '_id': '6840',\n",
       " '_version': 1,\n",
       " '_seq_no': 10056,\n",
       " '_primary_term': 1,\n",
       " 'found': True,\n",
       " '_source': {'question': \"What award did Nikolai Andrianov receive for participating in the Gymnastics at the 1976 Summer Olympics - Men's parallel bars?\",\n",
       "  'category': 'resource',\n",
       "  'type': ['medal', 'Olympic award']}}"
      ]
     },
     "execution_count": 32,
     "metadata": {},
     "output_type": "execute_result"
    }
   ],
   "source": [
    "es.get(index=INDEX_NAME, id='6840')"
   ]
  },
  {
   "cell_type": "code",
   "execution_count": 40,
   "metadata": {
    "scrolled": true
   },
   "outputs": [
    {
     "data": {
      "text/plain": [
       "[{'_index': 'questions',\n",
       "  '_type': '_doc',\n",
       "  '_id': '30077',\n",
       "  '_score': 8.535293,\n",
       "  '_source': {'question': 'Tell me about cola for product or material produced of The Coca-Cola Company?',\n",
       "   'category': 'resource',\n",
       "   'type': ['goods', 'physical object', 'class', 'trademark', 'soft drink']}},\n",
       " {'_index': 'questions',\n",
       "  '_type': '_doc',\n",
       "  '_id': '24488',\n",
       "  '_score': 7.8734784,\n",
       "  '_source': {'question': 'which cola starts with the letter p',\n",
       "   'category': 'resource',\n",
       "   'type': ['soft drink',\n",
       "    'trademark',\n",
       "    'carbonated beverage',\n",
       "    'non-alcoholic beverage',\n",
       "    'symbol',\n",
       "    'class',\n",
       "    'protected name',\n",
       "    'intellectual property',\n",
       "    'sign']}},\n",
       " {'_index': 'questions',\n",
       "  '_type': '_doc',\n",
       "  '_id': '22455',\n",
       "  '_score': 7.3887763,\n",
       "  '_source': {'question': 'Which is the corporation for the products produced by Coca-Cola?',\n",
       "   'category': 'resource',\n",
       "   'type': ['juridical person',\n",
       "    'company',\n",
       "    'separate legal entity',\n",
       "    'legal form']}},\n",
       " {'_index': 'questions',\n",
       "  '_type': '_doc',\n",
       "  '_id': '21891',\n",
       "  '_score': 7.3887763,\n",
       "  '_source': {'question': 'What products does Coca-Cola produce?',\n",
       "   'category': 'resource',\n",
       "   'type': ['enterprise',\n",
       "    'organization',\n",
       "    'company',\n",
       "    'joint-stock company',\n",
       "    'economic unit',\n",
       "    'business']}},\n",
       " {'_index': 'questions',\n",
       "  '_type': '_doc',\n",
       "  '_id': '22454',\n",
       "  '_score': 7.3887763,\n",
       "  '_source': {'question': 'What does the Coca-Cola Company manufacture?',\n",
       "   'category': 'resource',\n",
       "   'type': ['carbonated beverage',\n",
       "    'trademark',\n",
       "    'non-alcoholic beverage',\n",
       "    'class',\n",
       "    'cola',\n",
       "    'diet soda']}}]"
      ]
     },
     "execution_count": 40,
     "metadata": {},
     "output_type": "execute_result"
    }
   ],
   "source": [
    "# q = 'What periodical literature does Delta Air Lines use as a moutpiece?'\n",
    "# q = 'What is the country for head of state of Mahmoud Abbas'\n",
    "q = 'Is cola healthy?'\n",
    "\n",
    "es.search(index=INDEX_NAME, q=q, _source=True, size=5).get('hits', {}).get('hits', {})"
   ]
  },
  {
   "cell_type": "code",
   "execution_count": null,
   "metadata": {},
   "outputs": [],
   "source": []
  },
  {
   "cell_type": "code",
   "execution_count": null,
   "metadata": {},
   "outputs": [],
   "source": []
  }
 ],
 "metadata": {
  "kernelspec": {
   "display_name": "Python 3",
   "language": "python",
   "name": "python3"
  },
  "language_info": {
   "codemirror_mode": {
    "name": "ipython",
    "version": 3
   },
   "file_extension": ".py",
   "mimetype": "text/x-python",
   "name": "python",
   "nbconvert_exporter": "python",
   "pygments_lexer": "ipython3",
   "version": "3.8.3"
  }
 },
 "nbformat": 4,
 "nbformat_minor": 4
}
