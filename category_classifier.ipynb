{
 "cells": [
  {
   "cell_type": "markdown",
   "metadata": {},
   "source": [
    "# Category classifier\n",
    "text goes here"
   ]
  },
  {
   "cell_type": "code",
   "execution_count": 1,
   "metadata": {},
   "outputs": [],
   "source": [
    "from sklearn.neural_network import MLPClassifier\n",
    "import pickle\n",
    "import utils as utils"
   ]
  },
  {
   "cell_type": "code",
   "execution_count": 2,
   "metadata": {},
   "outputs": [],
   "source": [
    "train = utils.load_dataset('datasets/DBpedia/train.json')\n",
    "test = utils.load_dataset('datasets/DBpedia/test_grnd.json')"
   ]
  },
  {
   "cell_type": "code",
   "execution_count": 3,
   "metadata": {
    "scrolled": true
   },
   "outputs": [],
   "source": [
    "X_train, y_train, X_test, y_test = utils.prepare_X_y(train, test)\n",
    "train_vectors, test_vectors = utils.extract_features(X_train, X_test, 'category_vectorizer.sav')"
   ]
  },
  {
   "cell_type": "code",
   "execution_count": 4,
   "metadata": {},
   "outputs": [
    {
     "name": "stdout",
     "output_type": "stream",
     "text": [
      "Accuracy: 0.9226380648105887\n"
     ]
    }
   ],
   "source": [
    "clf = MLPClassifier(random_state=1, max_iter=300)\n",
    "clf.fit(train_vectors, y_train)\n",
    "pred = clf.predict(test_vectors)\n",
    "print(\"Accuracy:\", sum(pred==y_test)/len(pred))"
   ]
  },
  {
   "cell_type": "code",
   "execution_count": 5,
   "metadata": {},
   "outputs": [],
   "source": [
    "pickle.dump(clf, open('category_classifier_baseline.sav', 'wb'))"
   ]
  },
  {
   "cell_type": "code",
   "execution_count": null,
   "metadata": {},
   "outputs": [],
   "source": []
  },
  {
   "cell_type": "code",
   "execution_count": null,
   "metadata": {},
   "outputs": [],
   "source": []
  },
  {
   "cell_type": "code",
   "execution_count": 6,
   "metadata": {},
   "outputs": [],
   "source": [
    "# max_iter=300     Accuracy: 0.9415791875855773\n",
    "# alpha=0.1\n",
    "# solver='adam'"
   ]
  },
  {
   "cell_type": "code",
   "execution_count": 7,
   "metadata": {},
   "outputs": [],
   "source": [
    "# mlp_gs = MLPClassifier(random_state=1)\n",
    "# parameter_space = {\n",
    "# #     'hidden_layer_sizes': [(10,30,10),(3,)],\n",
    "#     'max_iter': [400, 500],\n",
    "# #     'activation': ['tanh', 'relu'],\n",
    "#     'solver': ['adam'],\n",
    "#     'alpha': [0.001, 0.01, 0.1],\n",
    "# }\n",
    "# from sklearn.model_selection import GridSearchCV\n",
    "# clf1 = GridSearchCV(mlp_gs, parameter_space, n_jobs=5, cv=5)\n",
    "# clf1.fit(train_vectors, y_train) # X is train samples and y is the corresponding labels"
   ]
  },
  {
   "cell_type": "code",
   "execution_count": 8,
   "metadata": {},
   "outputs": [],
   "source": [
    "# print('Best parameters found:\\n', clf1.best_params_)"
   ]
  },
  {
   "cell_type": "code",
   "execution_count": 9,
   "metadata": {},
   "outputs": [],
   "source": [
    "# pred = clf1.predict(test_vectors)\n",
    "# print(\"Accuracy:\", sum(pred==y_test)/len(pred))"
   ]
  },
  {
   "cell_type": "code",
   "execution_count": null,
   "metadata": {},
   "outputs": [],
   "source": []
  },
  {
   "cell_type": "code",
   "execution_count": 10,
   "metadata": {},
   "outputs": [
    {
     "name": "stdout",
     "output_type": "stream",
     "text": [
      "Accuracy: 0.9415791875855773\n"
     ]
    }
   ],
   "source": [
    "clf1 = MLPClassifier(random_state=1, max_iter=400, alpha=0.1)\n",
    "clf1.fit(train_vectors, y_train)\n",
    "pred = clf1.predict(test_vectors)\n",
    "print(\"Accuracy:\", sum(pred==y_test)/len(pred))"
   ]
  },
  {
   "cell_type": "code",
   "execution_count": 11,
   "metadata": {},
   "outputs": [],
   "source": [
    "pickle.dump(clf1, open('category_classifier_advanced.sav', 'wb'))"
   ]
  }
 ],
 "metadata": {
  "kernelspec": {
   "display_name": "Python 3",
   "language": "python",
   "name": "python3"
  },
  "language_info": {
   "codemirror_mode": {
    "name": "ipython",
    "version": 3
   },
   "file_extension": ".py",
   "mimetype": "text/x-python",
   "name": "python",
   "nbconvert_exporter": "python",
   "pygments_lexer": "ipython3",
   "version": "3.8.3"
  }
 },
 "nbformat": 4,
 "nbformat_minor": 4
}
