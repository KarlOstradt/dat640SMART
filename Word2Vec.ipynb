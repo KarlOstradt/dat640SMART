{
 "cells": [
  {
   "cell_type": "code",
   "execution_count": 1,
   "metadata": {},
   "outputs": [],
   "source": [
    "# importing all necessary modules \n",
    "import warnings  \n",
    "import gensim \n",
    "import utils\n",
    "from nltk.tokenize import sent_tokenize, word_tokenize \n",
    "from gensim.models import Word2Vec \n",
    "from nltk.corpus import stopwords \n",
    "\n",
    "warnings.filterwarnings(action = 'ignore')\n",
    "\n",
    "# https://www.geeksforgeeks.org/python-word-embedding-using-word2vec/\n",
    "# https://towardsdatascience.com/a-beginners-guide-to-word-embedding-with-gensim-word2vec-model-5970fa56cc92#9731"
   ]
  },
  {
   "cell_type": "code",
   "execution_count": 2,
   "metadata": {},
   "outputs": [],
   "source": [
    "train = utils.load_dataset('datasets/Wikidata/lcquad2_anstype_wikidata_train.json')\n",
    "test = utils.load_dataset('datasets/Wikidata/lcquad2_anstype_wikidata_test_gold.json')"
   ]
  },
  {
   "cell_type": "code",
   "execution_count": 3,
   "metadata": {},
   "outputs": [],
   "source": [
    "stop_words = set(stopwords.words('english'))\n",
    "\n",
    "lines = []\n",
    "for doc in train:\n",
    "    if doc['category'] == 'resource':\n",
    "        q = doc['question']\n",
    "        q = \" \".join([w for w in word_tokenize(q)  if not w in stop_words])\n",
    "        lines.append(q + \" \" + \" \".join(doc['type']))\n",
    "        \n",
    "data = [] \n",
    "\n",
    "for line in lines:\n",
    "    temp = []\n",
    "    for j in word_tokenize(line): \n",
    "        temp.append(j.lower()) \n",
    "    data.append(temp)"
   ]
  },
  {
   "cell_type": "code",
   "execution_count": 4,
   "metadata": {},
   "outputs": [],
   "source": [
    "# Create CBOW model \n",
    "model1 = gensim.models.Word2Vec(data, min_count = 1,size = 100, window = 10) \n",
    "  \n",
    "# Create Skip Gram model \n",
    "model2 = gensim.models.Word2Vec(data, min_count = 1, size = 100,window = 10, sg = 1) "
   ]
  },
  {
   "cell_type": "code",
   "execution_count": 5,
   "metadata": {},
   "outputs": [
    {
     "name": "stdout",
     "output_type": "stream",
     "text": [
      "CBOW :  0.9018398\n",
      "Skip Gram :  0.76208687\n"
     ]
    }
   ],
   "source": [
    "word1 = 'delta'\n",
    "word2 = 'publication'\n",
    "print(\"CBOW : \", model1.similarity(word1, word2))\n",
    "print(\"Skip Gram : \", model2.similarity(word1, word2))"
   ]
  },
  {
   "cell_type": "code",
   "execution_count": 6,
   "metadata": {},
   "outputs": [
    {
     "data": {
      "text/plain": [
       "[('non-alcoholic', 0.9865145683288574),\n",
       " ('carbonated', 0.9864324331283569),\n",
       " ('soft', 0.9779586791992188),\n",
       " ('drink', 0.9756035804748535),\n",
       " ('beverage', 0.9748244285583496),\n",
       " ('equipment', 0.9674972891807556),\n",
       " ('magnetic', 0.9653342962265015),\n",
       " ('watercraft', 0.9639474153518677),\n",
       " ('erg', 0.963396430015564),\n",
       " ('elementary', 0.9623740911483765)]"
      ]
     },
     "execution_count": 6,
     "metadata": {},
     "output_type": "execute_result"
    }
   ],
   "source": [
    "model2.most_similar('cola')"
   ]
  },
  {
   "cell_type": "code",
   "execution_count": 7,
   "metadata": {},
   "outputs": [
    {
     "name": "stdout",
     "output_type": "stream",
     "text": [
      "who person 0.8835521\n",
      "country country 1.0\n",
      "country republic 0.8540263\n",
      "state regime 0.88874024\n",
      "state state 1.0\n",
      "state republic 0.85732436\n",
      "abbas regime 0.85088134\n"
     ]
    }
   ],
   "source": [
    "# q_terms = ['what', 'periodical', 'literature', 'delta', 'air', 'lines', 'use', 'moutpiece']\n",
    "# t_terms = ['publication', 'recurring', 'text', 'serial', 'airport', 'aerodrome', 'station', 'class', 'product']\n",
    "q_terms = ['who', 'country', 'head', 'state', 'mahmoud', 'abbas']\n",
    "t_terms = ['regime', 'state', 'country', 'person', 'omnivore', 'nation', 'republic', 'plutocracy']\n",
    "\n",
    "for i in q_terms:\n",
    "    for j in t_terms:\n",
    "        score = model2.similarity(i, j)\n",
    "        if score > 0.85:\n",
    "            print(i, j, score)"
   ]
  },
  {
   "cell_type": "code",
   "execution_count": 9,
   "metadata": {},
   "outputs": [
    {
     "name": "stdout",
     "output_type": "stream",
     "text": [
      "country state 0.9780291\n",
      "country country 1.0\n",
      "country republic 0.9770932\n",
      "state state 0.99999994\n",
      "state country 0.9780291\n",
      "state nation 0.9626672\n",
      "state republic 0.9834473\n",
      "state plutocracy 0.95057565\n"
     ]
    }
   ],
   "source": [
    "for i in q_terms:\n",
    "    for j in t_terms:\n",
    "        score = model1.similarity(i, j)\n",
    "        if score > 0.95:\n",
    "            print(i, j, score)"
   ]
  }
 ],
 "metadata": {
  "kernelspec": {
   "display_name": "Python 3",
   "language": "python",
   "name": "python3"
  },
  "language_info": {
   "codemirror_mode": {
    "name": "ipython",
    "version": 3
   },
   "file_extension": ".py",
   "mimetype": "text/x-python",
   "name": "python",
   "nbconvert_exporter": "python",
   "pygments_lexer": "ipython3",
   "version": "3.8.3"
  }
 },
 "nbformat": 4,
 "nbformat_minor": 4
}
