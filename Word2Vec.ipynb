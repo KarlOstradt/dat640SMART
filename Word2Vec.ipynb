{
 "cells": [
  {
   "cell_type": "code",
   "execution_count": 1,
   "metadata": {},
   "outputs": [],
   "source": [
    "# importing all necessary modules \n",
    "import warnings  \n",
    "import gensim \n",
    "import utils\n",
    "import pickle\n",
    "from nltk.tokenize import sent_tokenize, word_tokenize \n",
    "from gensim.models import Word2Vec \n",
    "from nltk.corpus import stopwords \n",
    "\n",
    "warnings.filterwarnings(action = 'ignore')\n",
    "\n",
    "# https://www.geeksforgeeks.org/python-word-embedding-using-word2vec/\n",
    "# https://towardsdatascience.com/a-beginners-guide-to-word-embedding-with-gensim-word2vec-model-5970fa56cc92#9731"
   ]
  },
  {
   "cell_type": "code",
   "execution_count": 2,
   "metadata": {},
   "outputs": [],
   "source": [
    "train = utils.load_dataset('datasets/Wikidata/lcquad2_anstype_wikidata_train.json')\n",
    "test = utils.load_dataset('datasets/Wikidata/lcquad2_anstype_wikidata_test_gold.json')"
   ]
  },
  {
   "cell_type": "code",
   "execution_count": 3,
   "metadata": {},
   "outputs": [],
   "source": [
    "stop_words = set(stopwords.words('english'))\n",
    "\n",
    "lines = []\n",
    "for doc in train:\n",
    "    if doc['category'] == 'resource':\n",
    "        q = doc['question']\n",
    "        q = \" \".join([w for w in word_tokenize(q)  if not w in stop_words])\n",
    "        lines.append(q + \" \" + \" \".join(doc['type']))\n",
    "        \n",
    "data = [] \n",
    "\n",
    "for line in lines:\n",
    "    temp = []\n",
    "    for j in word_tokenize(line): \n",
    "        temp.append(j.lower()) \n",
    "    data.append(temp)"
   ]
  },
  {
   "cell_type": "code",
   "execution_count": 4,
   "metadata": {},
   "outputs": [],
   "source": [
    "# Create CBOW model \n",
    "model1 = gensim.models.Word2Vec(data, min_count = 1,size = 100, window = 10) \n",
    "  \n",
    "# Create Skip Gram model \n",
    "model2 = gensim.models.Word2Vec(data, min_count = 1, size = 100,window = 10, sg = 1) "
   ]
  },
  {
   "cell_type": "code",
   "execution_count": 5,
   "metadata": {},
   "outputs": [],
   "source": [
    "pickle.dump(model2, open('word2vec_sg.sav', 'wb'))"
   ]
  },
  {
   "cell_type": "code",
   "execution_count": 6,
   "metadata": {},
   "outputs": [
    {
     "name": "stdout",
     "output_type": "stream",
     "text": [
      "CBOW :  0.913829\n",
      "Skip Gram :  0.7495525\n"
     ]
    }
   ],
   "source": [
    "word1 = 'delta'\n",
    "word2 = 'publication'\n",
    "print(\"CBOW : \", model1.similarity(word1, word2))\n",
    "print(\"Skip Gram : \", model2.similarity(word1, word2))"
   ]
  },
  {
   "cell_type": "code",
   "execution_count": 11,
   "metadata": {},
   "outputs": [
    {
     "data": {
      "text/plain": [
       "[('carbonated', 0.9915328025817871),\n",
       " ('non-alcoholic', 0.988882303237915),\n",
       " ('soft', 0.9813560843467712),\n",
       " ('drink', 0.9802319407463074),\n",
       " ('airliner', 0.973507285118103),\n",
       " ('equipment', 0.9714939594268799),\n",
       " ('beverage', 0.9703865051269531),\n",
       " ('fraction', 0.967510461807251),\n",
       " ('low-cost', 0.96715247631073),\n",
       " ('motorcycle', 0.9666259288787842)]"
      ]
     },
     "execution_count": 11,
     "metadata": {},
     "output_type": "execute_result"
    }
   ],
   "source": [
    "model2.most_similar('cola')"
   ]
  },
  {
   "cell_type": "code",
   "execution_count": 12,
   "metadata": {},
   "outputs": [
    {
     "name": "stdout",
     "output_type": "stream",
     "text": [
      "periodical publication 0.9086688\n",
      "literature text 0.9018323\n",
      "delta aerodrome 0.9145688\n",
      "lines aerodrome 0.8962494\n",
      "moutpiece serial 0.87807333\n"
     ]
    }
   ],
   "source": [
    "q_terms = ['what', 'periodical', 'literature', 'delta', 'air', 'lines', 'use', 'moutpiece']\n",
    "t_terms = ['publication', 'recurring', 'text', 'serial', 'airport', 'aerodrome', 'station', 'class', 'product']\n",
    "# q_terms = ['who', 'country', 'head', 'state', 'mahmoud', 'abbas']\n",
    "# t_terms = ['regime', 'state', 'country', 'person', 'omnivore', 'nation', 'republic', 'plutocracy']\n",
    "\n",
    "for i in q_terms:\n",
    "    for j in t_terms:\n",
    "        score = model2.similarity(i, j)\n",
    "        if score > 0.85:\n",
    "            print(i, j, score)"
   ]
  },
  {
   "cell_type": "code",
   "execution_count": 9,
   "metadata": {},
   "outputs": [
    {
     "name": "stdout",
     "output_type": "stream",
     "text": [
      "country state 0.9835948\n",
      "country country 1.0\n",
      "country republic 0.9667765\n",
      "state state 1.0\n",
      "state country 0.9835948\n",
      "state republic 0.98351127\n",
      "mahmoud regime 0.95115507\n"
     ]
    }
   ],
   "source": [
    "for i in q_terms:\n",
    "    for j in t_terms:\n",
    "        score = model1.similarity(i, j)\n",
    "        if score > 0.95:\n",
    "            print(i, j, score)"
   ]
  }
 ],
 "metadata": {
  "kernelspec": {
   "display_name": "Python 3",
   "language": "python",
   "name": "python3"
  },
  "language_info": {
   "codemirror_mode": {
    "name": "ipython",
    "version": 3
   },
   "file_extension": ".py",
   "mimetype": "text/x-python",
   "name": "python",
   "nbconvert_exporter": "python",
   "pygments_lexer": "ipython3",
   "version": "3.8.3"
  }
 },
 "nbformat": 4,
 "nbformat_minor": 4
}
