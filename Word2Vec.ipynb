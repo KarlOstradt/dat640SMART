{
 "cells": [
  {
   "cell_type": "markdown",
   "metadata": {},
   "source": [
    "# Word2Vec\n",
    "This notebook trains the word2vec model."
   ]
  },
  {
   "cell_type": "code",
   "execution_count": 1,
   "metadata": {},
   "outputs": [],
   "source": [
    "# importing all necessary modules \n",
    "import warnings  \n",
    "import gensim \n",
    "import utils\n",
    "import pickle\n",
    "from nltk.tokenize import sent_tokenize, word_tokenize \n",
    "from gensim.models import Word2Vec \n",
    "from nltk.corpus import stopwords \n",
    "\n",
    "warnings.filterwarnings(action = 'ignore')\n",
    "\n",
    "# https://www.geeksforgeeks.org/python-word-embedding-using-word2vec/\n",
    "# https://towardsdatascience.com/a-beginners-guide-to-word-embedding-with-gensim-word2vec-model-5970fa56cc92#9731"
   ]
  },
  {
   "cell_type": "code",
   "execution_count": 2,
   "metadata": {},
   "outputs": [],
   "source": [
    "train = utils.load_dataset('datasets/DBpedia/train.json')"
   ]
  },
  {
   "cell_type": "code",
   "execution_count": 3,
   "metadata": {},
   "outputs": [],
   "source": [
    "stop_words = set(stopwords.words('english'))\n",
    "\n",
    "lines = []\n",
    "for doc in train:\n",
    "    if doc['category'] == 'resource':\n",
    "        q = doc['question']\n",
    "        q = \" \".join([w for w in word_tokenize(q)  if not w in stop_words])\n",
    "        lines.append(q + \" \" + \" \".join(doc['type']))\n",
    "        \n",
    "data = [] \n",
    "\n",
    "for line in lines:\n",
    "    temp = []\n",
    "    for j in word_tokenize(line): \n",
    "        temp.append(j) \n",
    "    data.append(temp)"
   ]
  },
  {
   "cell_type": "code",
   "execution_count": 4,
   "metadata": {},
   "outputs": [],
   "source": [
    "# Create CBOW model \n",
    "model1 = gensim.models.Word2Vec(data, min_count = 1,size = 100, window = 10) \n",
    "  \n",
    "# Create Skip Gram model \n",
    "model2 = gensim.models.Word2Vec(data, min_count = 1, size = 100,window = 10, sg = 1) "
   ]
  },
  {
   "cell_type": "code",
   "execution_count": 5,
   "metadata": {},
   "outputs": [
    {
     "name": "stdout",
     "output_type": "stream",
     "text": [
      "CBOW :  0.8497436\n",
      "Skip Gram :  0.9767906\n"
     ]
    }
   ],
   "source": [
    "word1 = 'church'\n",
    "word2 = 'Church'\n",
    "print(\"CBOW : \", model1.similarity(word1, word2))\n",
    "print(\"Skip Gram : \", model2.similarity(word1, word2))"
   ]
  },
  {
   "cell_type": "code",
   "execution_count": 6,
   "metadata": {},
   "outputs": [
    {
     "data": {
      "text/plain": [
       "[('London', 0.9873440265655518),\n",
       " ('Airport', 0.9852166771888733),\n",
       " ('station', 0.9852117300033569),\n",
       " ('ReligiousBuilding', 0.9849776029586792),\n",
       " ('hub', 0.9812229871749878),\n",
       " ('Building', 0.978388786315918),\n",
       " ('railway', 0.9768326282501221),\n",
       " ('church', 0.9767906069755554),\n",
       " ('Road', 0.976337194442749),\n",
       " ('Hotel', 0.9728286862373352)]"
      ]
     },
     "execution_count": 6,
     "metadata": {},
     "output_type": "execute_result"
    }
   ],
   "source": [
    "model2.most_similar('Church')"
   ]
  },
  {
   "cell_type": "markdown",
   "metadata": {},
   "source": [
    "Save the skip-gram model as it gives the most realistic similarities. "
   ]
  },
  {
   "cell_type": "code",
   "execution_count": 7,
   "metadata": {},
   "outputs": [],
   "source": [
    "pickle.dump(model2, open('word2vec_sg.sav', 'wb'))"
   ]
  }
 ],
 "metadata": {
  "kernelspec": {
   "display_name": "Python 3",
   "language": "python",
   "name": "python3"
  },
  "language_info": {
   "codemirror_mode": {
    "name": "ipython",
    "version": 3
   },
   "file_extension": ".py",
   "mimetype": "text/x-python",
   "name": "python",
   "nbconvert_exporter": "python",
   "pygments_lexer": "ipython3",
   "version": "3.8.3"
  }
 },
 "nbformat": 4,
 "nbformat_minor": 4
}
