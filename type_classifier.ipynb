{
 "cells": [
  {
   "cell_type": "markdown",
   "metadata": {},
   "source": [
    "# Type classifier\n",
    "text goes here"
   ]
  },
  {
   "cell_type": "code",
   "execution_count": 1,
   "metadata": {},
   "outputs": [],
   "source": [
    "import json\n",
    "from sklearn.neural_network import MLPClassifier\n",
    "import numpy as np\n",
    "import pickle\n",
    "import utils"
   ]
  },
  {
   "cell_type": "code",
   "execution_count": 2,
   "metadata": {},
   "outputs": [],
   "source": [
    "# train = load_dataset('datasets/DBpedia/smarttask_dbpedia_train.json')\n",
    "train = utils.load_dataset('datasets/Wikidata/lcquad2_anstype_wikidata_train.json')\n",
    "test = utils.load_dataset('datasets/Wikidata/lcquad2_anstype_wikidata_test_gold.json')"
   ]
  },
  {
   "cell_type": "code",
   "execution_count": 3,
   "metadata": {},
   "outputs": [],
   "source": [
    "X_train, y_train, X_test, y_test = utils.prepare_X_y(train, test)\n",
    "# train_vectors, test_vectors = utils.extract_features(X_train, X_test, 'literal_vectorizer.sav')"
   ]
  },
  {
   "cell_type": "markdown",
   "metadata": {},
   "source": [
    "# Predict types"
   ]
  },
  {
   "cell_type": "code",
   "execution_count": 4,
   "metadata": {},
   "outputs": [],
   "source": [
    "def split_bool_literal_reference(X, y):\n",
    "    bool_map = {}\n",
    "    literal_map = {}\n",
    "    resource_map = {}\n",
    "\n",
    "    for i in range(len(y)):\n",
    "        if y[i] == 'boolean':\n",
    "            bool_map[i] = X[i]\n",
    "        elif y[i] == 'literal':\n",
    "            literal_map[i] = X[i]\n",
    "        elif y[i] == 'resource':\n",
    "            resource_map[i] = X[i]\n",
    "            \n",
    "    return bool_map, literal_map, resource_map"
   ]
  },
  {
   "cell_type": "code",
   "execution_count": 5,
   "metadata": {},
   "outputs": [],
   "source": [
    "bool_map, literal_map, resource_map = split_bool_literal_reference(X_train, y_train)\n",
    "test_bool_map, test_literal_map, test_resource_map = split_bool_literal_reference(X_test, y_test)"
   ]
  },
  {
   "cell_type": "markdown",
   "metadata": {},
   "source": [
    "## Train literal"
   ]
  },
  {
   "cell_type": "code",
   "execution_count": 6,
   "metadata": {},
   "outputs": [],
   "source": [
    "X_train_literal = list(literal_map.values())\n",
    "y_train_literal = []\n",
    "for i in list(literal_map.keys()):\n",
    "    y_train_literal.append(train[i]['type'][0])\n",
    "    \n",
    "X_test_literal = list(test_literal_map.values())\n",
    "y_test_literal = []\n",
    "for i in list(test_literal_map.keys()):\n",
    "    y_test_literal.append(test[i]['type'][0])"
   ]
  },
  {
   "cell_type": "code",
   "execution_count": 7,
   "metadata": {},
   "outputs": [],
   "source": [
    "train_vectors_literal, test_vectors_literal = utils.extract_features(X_train_literal, X_test_literal, 'literal_vectorizer.sav')"
   ]
  },
  {
   "cell_type": "code",
   "execution_count": 8,
   "metadata": {},
   "outputs": [
    {
     "name": "stdout",
     "output_type": "stream",
     "text": [
      "Accuracy: 0.9357466063348416\n"
     ]
    }
   ],
   "source": [
    "clf = MLPClassifier(random_state=1, max_iter=300)\n",
    "clf.fit(train_vectors_literal, y_train_literal)\n",
    "pred_literal = clf.predict(test_vectors_literal)\n",
    "print(\"Accuracy:\", sum(pred_literal==y_test_literal)/len(pred_literal))\n",
    "pickle.dump(clf, open('type_literal_classifier.sav', 'wb'))"
   ]
  },
  {
   "cell_type": "markdown",
   "metadata": {},
   "source": [
    "## Bundle"
   ]
  },
  {
   "cell_type": "code",
   "execution_count": 9,
   "metadata": {},
   "outputs": [],
   "source": [
    "type_preds = []\n",
    "count_literal = 0\n",
    "for i in range(len(test)):\n",
    "    \n",
    "    if i in test_bool_map:\n",
    "        type_preds.append('boolean')\n",
    "    if i in test_literal_map:\n",
    "        type_preds.append(pred_literal[count_literal])\n",
    "        count_literal += 1\n",
    "    if i in test_resource_map:\n",
    "        type_preds.append('placeholder')"
   ]
  },
  {
   "cell_type": "code",
   "execution_count": 10,
   "metadata": {
    "scrolled": true
   },
   "outputs": [],
   "source": [
    "y_test_types = []\n",
    "    \n",
    "for doc in test:\n",
    "    y_test_types.append(doc['type'][0])"
   ]
  },
  {
   "cell_type": "code",
   "execution_count": 11,
   "metadata": {},
   "outputs": [
    {
     "name": "stdout",
     "output_type": "stream",
     "text": [
      "Accuracy: 0.3421570772259899\n"
     ]
    }
   ],
   "source": [
    "print(\"Accuracy:\", sum(np.array(type_preds)==np.array(y_test_types))/len(type_preds))"
   ]
  }
 ],
 "metadata": {
  "kernelspec": {
   "display_name": "Python 3",
   "language": "python",
   "name": "python3"
  },
  "language_info": {
   "codemirror_mode": {
    "name": "ipython",
    "version": 3
   },
   "file_extension": ".py",
   "mimetype": "text/x-python",
   "name": "python",
   "nbconvert_exporter": "python",
   "pygments_lexer": "ipython3",
   "version": "3.8.3"
  }
 },
 "nbformat": 4,
 "nbformat_minor": 4
}
