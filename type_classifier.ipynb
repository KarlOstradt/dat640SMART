{
 "cells": [
  {
   "cell_type": "markdown",
   "metadata": {},
   "source": [
    "# Type classifier\n",
    "text goes here"
   ]
  },
  {
   "cell_type": "code",
   "execution_count": 1,
   "metadata": {},
   "outputs": [],
   "source": [
    "import json\n",
    "from sklearn.neural_network import MLPClassifier\n",
    "import numpy as np\n",
    "import pickle\n",
    "import utils\n",
    "import gensim \n",
    "from gensim.models import Word2Vec \n",
    "from nltk.tokenize import word_tokenize \n",
    "from nltk.corpus import stopwords \n",
    "from elasticsearch import Elasticsearch"
   ]
  },
  {
   "cell_type": "code",
   "execution_count": 2,
   "metadata": {},
   "outputs": [],
   "source": [
    "train = utils.load_dataset('datasets/DBpedia/train.json')\n",
    "test = utils.load_dataset('datasets/DBpedia/test_grnd.json')"
   ]
  },
  {
   "cell_type": "code",
   "execution_count": 3,
   "metadata": {},
   "outputs": [],
   "source": [
    "X_train, y_train, X_test, y_test = utils.prepare_X_y(train, test)\n",
    "# train_vectors, test_vectors = utils.extract_features(X_train, X_test, 'literal_vectorizer.sav')"
   ]
  },
  {
   "cell_type": "markdown",
   "metadata": {},
   "source": [
    "# Predict types"
   ]
  },
  {
   "cell_type": "code",
   "execution_count": 4,
   "metadata": {},
   "outputs": [],
   "source": [
    "def split_bool_literal_reference(X, y):\n",
    "    bool_map = {}\n",
    "    literal_map = {}\n",
    "    resource_map = {}\n",
    "\n",
    "    for i in range(len(y)):\n",
    "        if y[i] == 'boolean':\n",
    "            bool_map[i] = X[i]\n",
    "        elif y[i] == 'literal':\n",
    "            literal_map[i] = X[i]\n",
    "        elif y[i] == 'resource':\n",
    "            resource_map[i] = X[i]\n",
    "            \n",
    "    return bool_map, literal_map, resource_map"
   ]
  },
  {
   "cell_type": "code",
   "execution_count": 5,
   "metadata": {},
   "outputs": [],
   "source": [
    "bool_map, literal_map, resource_map = split_bool_literal_reference(X_train, y_train)\n",
    "test_bool_map, test_literal_map, test_resource_map = split_bool_literal_reference(X_test, y_test)"
   ]
  },
  {
   "cell_type": "markdown",
   "metadata": {},
   "source": [
    "## Train literal"
   ]
  },
  {
   "cell_type": "code",
   "execution_count": 6,
   "metadata": {},
   "outputs": [],
   "source": [
    "X_train_literal = list(literal_map.values())\n",
    "y_train_literal = []\n",
    "for i in list(literal_map.keys()):\n",
    "    y_train_literal.append(train[i]['type'][0])\n",
    "    \n",
    "X_test_literal = list(test_literal_map.values())\n",
    "y_test_literal = []\n",
    "for i in list(test_literal_map.keys()):\n",
    "    y_test_literal.append(test[i]['type'][0])"
   ]
  },
  {
   "cell_type": "code",
   "execution_count": 7,
   "metadata": {},
   "outputs": [],
   "source": [
    "train_vectors_literal, test_vectors_literal = utils.extract_features(X_train_literal, X_test_literal, 'literal_vectorizer.sav')"
   ]
  },
  {
   "cell_type": "code",
   "execution_count": 8,
   "metadata": {},
   "outputs": [
    {
     "name": "stdout",
     "output_type": "stream",
     "text": [
      "Accuracy: 0.9502407704654896\n"
     ]
    }
   ],
   "source": [
    "clf = MLPClassifier(random_state=1, max_iter=300)\n",
    "clf.fit(train_vectors_literal, y_train_literal)\n",
    "pred_literal = clf.predict(test_vectors_literal)\n",
    "print(\"Accuracy:\", sum(pred_literal==y_test_literal)/len(pred_literal))\n",
    "pickle.dump(clf, open('type_literal_classifier.sav', 'wb'))"
   ]
  },
  {
   "cell_type": "markdown",
   "metadata": {},
   "source": [
    "## Bundle"
   ]
  },
  {
   "cell_type": "code",
   "execution_count": 9,
   "metadata": {},
   "outputs": [],
   "source": [
    "es = Elasticsearch()\n",
    "INDEX_NAME = 'questions'\n",
    "es.info()\n",
    "stop_words = set(stopwords.words('english'))\n",
    "word2vec_sg = pickle.load(open('word2vec_sg.sav', 'rb'))\n",
    "# word2vec_sg.wv.most_similar('cola') # Check if working"
   ]
  },
  {
   "cell_type": "code",
   "execution_count": 10,
   "metadata": {},
   "outputs": [],
   "source": [
    "def predict_resource_types(es, index, model, index_name='questions', size=5, threshold=0.85):\n",
    "    q = test[index]['question']\n",
    "    q = \" \".join([w for w in word_tokenize(q)  if not w in stop_words])\n",
    "    results = []\n",
    "    try:\n",
    "        results = es.search(index=index_name, q=q, _source=True, size=size).get('hits', {}).get('hits', {})\n",
    "    except:\n",
    "        return []\n",
    "    types = set([])\n",
    "    for result in results:\n",
    "        for t in result['_source']['type']:\n",
    "            if len(t.split()) == 1:\n",
    "                types.add(t)\n",
    "\n",
    "    q_terms = q.split() # Question terms\n",
    "    t_terms = list(types) # Types from search\n",
    "    pred_types = set([])\n",
    "\n",
    "    for i in q_terms:\n",
    "        for j in t_terms:\n",
    "            try:\n",
    "                score = model.wv.similarity(i, j[4:])\n",
    "                if score > threshold:\n",
    "                    pred_types.add(j)\n",
    "#                     print(i, j, score)\n",
    "            except:\n",
    "#                 print(i, j)\n",
    "                pass\n",
    "\n",
    "    return list(pred_types)"
   ]
  },
  {
   "cell_type": "code",
   "execution_count": 11,
   "metadata": {},
   "outputs": [
    {
     "data": {
      "text/plain": [
       "['dbo:Location', 'dbo:CelestialBody', 'dbo:Planet', 'dbo:Asteroid']"
      ]
     },
     "execution_count": 11,
     "metadata": {},
     "output_type": "execute_result"
    }
   ],
   "source": [
    "predict_resource_types(es, 12, word2vec_sg, threshold=0.85)"
   ]
  },
  {
   "cell_type": "code",
   "execution_count": 12,
   "metadata": {},
   "outputs": [
    {
     "data": {
      "text/plain": [
       "{'id': 'dbpedia_10882',\n",
       " 'question': \"What is the furthest planet with the lowest synodic period from the source Otto's encyclopdedia?\",\n",
       " 'category': 'resource',\n",
       " 'type': ['dbo:Planet', 'dbo:CelestialBody', 'dbo:Place', 'dbo:Location']}"
      ]
     },
     "execution_count": 12,
     "metadata": {},
     "output_type": "execute_result"
    }
   ],
   "source": [
    "test[12]"
   ]
  },
  {
   "cell_type": "code",
   "execution_count": 13,
   "metadata": {},
   "outputs": [],
   "source": [
    "type_preds = []\n",
    "count_literal = 0\n",
    "for i in range(len(test)):\n",
    "    \n",
    "    if i in test_bool_map:\n",
    "        type_preds.append('boolean')\n",
    "    if i in test_literal_map:\n",
    "        type_preds.append(pred_literal[count_literal])\n",
    "        count_literal += 1\n",
    "    if i in test_resource_map:\n",
    "        type_preds.append(predict_resource_types(es, i, word2vec_sg, threshold=0.85))"
   ]
  },
  {
   "cell_type": "code",
   "execution_count": 14,
   "metadata": {
    "scrolled": true
   },
   "outputs": [],
   "source": [
    "y_test_types = []\n",
    "    \n",
    "for doc in test:\n",
    "    y_test_types.append(doc['type'])"
   ]
  },
  {
   "cell_type": "code",
   "execution_count": 15,
   "metadata": {},
   "outputs": [
    {
     "data": {
      "text/plain": [
       "[['number'],\n",
       " ['dbo:Single', 'dbo:MusicalWork', 'dbo:Work'],\n",
       " ['number'],\n",
       " ['boolean'],\n",
       " ['string']]"
      ]
     },
     "execution_count": 15,
     "metadata": {},
     "output_type": "execute_result"
    }
   ],
   "source": [
    "y_test_types[:5]"
   ]
  },
  {
   "cell_type": "code",
   "execution_count": 16,
   "metadata": {},
   "outputs": [
    {
     "ename": "ZeroDivisionError",
     "evalue": "division by zero",
     "output_type": "error",
     "traceback": [
      "\u001b[0;31m---------------------------------------------------------------------------\u001b[0m",
      "\u001b[0;31mZeroDivisionError\u001b[0m                         Traceback (most recent call last)",
      "\u001b[0;32m<ipython-input-16-c4bb4d9aaa8e>\u001b[0m in \u001b[0;36m<module>\u001b[0;34m\u001b[0m\n\u001b[1;32m     23\u001b[0m                 \u001b[0mmin_1_correct\u001b[0m \u001b[0;34m=\u001b[0m \u001b[0;32mTrue\u001b[0m\u001b[0;34m\u001b[0m\u001b[0;34m\u001b[0m\u001b[0m\n\u001b[1;32m     24\u001b[0m             \u001b[0;32melse\u001b[0m\u001b[0;34m:\u001b[0m\u001b[0;34m\u001b[0m\u001b[0;34m\u001b[0m\u001b[0m\n\u001b[0;32m---> 25\u001b[0;31m                 \u001b[0mpenalty\u001b[0m \u001b[0;34m+=\u001b[0m \u001b[0;36m1\u001b[0m\u001b[0;34m/\u001b[0m\u001b[0mlen\u001b[0m\u001b[0;34m(\u001b[0m\u001b[0mlabels\u001b[0m\u001b[0;34m)\u001b[0m\u001b[0;34m\u001b[0m\u001b[0;34m\u001b[0m\u001b[0m\n\u001b[0m\u001b[1;32m     26\u001b[0m \u001b[0;34m\u001b[0m\u001b[0m\n\u001b[1;32m     27\u001b[0m         \u001b[0mresource_score_no_penalty\u001b[0m \u001b[0;34m+=\u001b[0m \u001b[0msub_score\u001b[0m\u001b[0;34m\u001b[0m\u001b[0;34m\u001b[0m\u001b[0m\n",
      "\u001b[0;31mZeroDivisionError\u001b[0m: division by zero"
     ]
    }
   ],
   "source": [
    "score = 0\n",
    "bool_score = 0\n",
    "literal_score = 0\n",
    "resource_score_penalty = 0\n",
    "resource_score_no_penalty = 0\n",
    "resource_score_min_1_correct = 0\n",
    "for i in range(len(test)):\n",
    "    if i in test_bool_map:\n",
    "        score += type_preds[i] == y_test_types[i][0]\n",
    "        bool_score += type_preds[i] == y_test_types[i][0]\n",
    "    if i in test_literal_map:\n",
    "        score += type_preds[i] == y_test_types[i][0]\n",
    "        literal_score += type_preds[i] == y_test_types[i][0]\n",
    "    if i in test_resource_map:\n",
    "        preds = type_preds[i]\n",
    "        labels = y_test_types[i]\n",
    "        sub_score = 0\n",
    "        penalty = 0\n",
    "        min_1_correct = False\n",
    "        for pred in preds:\n",
    "            if pred in labels:\n",
    "                sub_score += 1/len(labels)\n",
    "                min_1_correct = True\n",
    "            else:\n",
    "                penalty += 1/len(labels)\n",
    "                \n",
    "        resource_score_no_penalty += sub_score\n",
    "        resource_score_penalty += max(sub_score - penalty, 0)\n",
    "        if min_1_correct:\n",
    "            resource_score_min_1_correct += 1\n",
    "        score += max(sub_score, 0)\n",
    "        \n",
    "        \n",
    "# print(score / len(y_test_types))\n",
    "print(\"Individual category accuracy on their respective category subsets\")\n",
    "print(\"Boolean accuracy:\", bool_score/ len(test_bool_map))\n",
    "print(\"Literal accuracy:\", literal_score/ len(test_literal_map))\n",
    "print(\"Resource min 1 correct accuracy:\", resource_score_min_1_correct/ len(test_resource_map))\n",
    "print(\"Resource no penalty accuracy:\", resource_score_no_penalty/ len(test_resource_map))\n",
    "print(\"Resource penalty accuracy:\", resource_score_penalty/ len(test_resource_map))\n",
    "print()\n",
    "print(\"Individual category accuracy on across entire test set\")\n",
    "print(\"Boolean accuracy:\", bool_score/ len(y_test_types))\n",
    "print(\"Literal accuracy:\", literal_score/ len(y_test_types))\n",
    "print(\"Resource min 1 correct accuracy:\", resource_score_min_1_correct/ len(y_test_types))\n",
    "print(\"Resource no penalty accuracy:\", resource_score_no_penalty/ len(y_test_types))\n",
    "print(\"Resource penalty accuracy:\", resource_score_penalty/ len(y_test_types))\n",
    "print()\n",
    "print(\"Total score\")\n",
    "print(\"Resource min 1 correct accuracy:\", (resource_score_min_1_correct + bool_score + literal_score)/ len(y_test_types))\n",
    "print(\"Resource no penalty accuracy:\", (resource_score_no_penalty + bool_score + literal_score)/ len(y_test_types))\n",
    "print(\"Resource penalty accuracy:\", (resource_score_penalty + bool_score + literal_score)/ len(y_test_types))"
   ]
  }
 ],
 "metadata": {
  "kernelspec": {
   "display_name": "Python 3",
   "language": "python",
   "name": "python3"
  },
  "language_info": {
   "codemirror_mode": {
    "name": "ipython",
    "version": 3
   },
   "file_extension": ".py",
   "mimetype": "text/x-python",
   "name": "python",
   "nbconvert_exporter": "python",
   "pygments_lexer": "ipython3",
   "version": "3.8.3"
  }
 },
 "nbformat": 4,
 "nbformat_minor": 4
}
