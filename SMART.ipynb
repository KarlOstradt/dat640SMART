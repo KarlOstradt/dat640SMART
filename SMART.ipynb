{
 "cells": [
  {
   "cell_type": "markdown",
   "metadata": {},
   "source": [
    "# SMART\n",
    "This file loads the trained category and type classifiers. The predicts and evaluate the results."
   ]
  },
  {
   "cell_type": "code",
   "execution_count": 1,
   "metadata": {},
   "outputs": [],
   "source": [
    "import utils\n",
    "import pickle\n",
    "import numpy as np\n",
    "import gensim \n",
    "import json\n",
    "from gensim.models import Word2Vec \n",
    "from nltk.tokenize import word_tokenize \n",
    "from nltk.corpus import stopwords \n",
    "from elasticsearch import Elasticsearch"
   ]
  },
  {
   "cell_type": "markdown",
   "metadata": {},
   "source": [
    "## Classify the category"
   ]
  },
  {
   "cell_type": "code",
   "execution_count": 2,
   "metadata": {},
   "outputs": [],
   "source": [
    "clf_category = pickle.load(open('category_classifier.sav', 'rb'))"
   ]
  },
  {
   "cell_type": "code",
   "execution_count": 3,
   "metadata": {},
   "outputs": [],
   "source": [
    "test = utils.load_dataset('datasets/DBpedia/test_grnd.json')"
   ]
  },
  {
   "cell_type": "code",
   "execution_count": 4,
   "metadata": {},
   "outputs": [],
   "source": [
    "_, _, X_test, y_test = utils.prepare_X_y({}, test)\n",
    "test_vectors = utils.transform_dataset(X_test, 'category_vectorizer.sav')"
   ]
  },
  {
   "cell_type": "code",
   "execution_count": 5,
   "metadata": {},
   "outputs": [
    {
     "name": "stdout",
     "output_type": "stream",
     "text": [
      "Accuracy: 0.9226380648105887\n"
     ]
    }
   ],
   "source": [
    "pred_category = clf_category.predict(test_vectors)\n",
    "print(\"Accuracy:\", sum(pred_category==y_test)/len(pred_category))"
   ]
  },
  {
   "cell_type": "code",
   "execution_count": 6,
   "metadata": {},
   "outputs": [],
   "source": [
    "nBool = 0\n",
    "nBoolWrong = 0\n",
    "nLiteral = 0\n",
    "nLiteralWrong = 0\n",
    "nResource = 0\n",
    "nResourceWrong = 0\n",
    "for i in range(len(pred_category)):\n",
    "    if pred_category[i] != y_test[i]:\n",
    "        if y_test[i] == \"boolean\":\n",
    "             nBoolWrong += 1\n",
    "        elif y_test[i] == \"literal\":\n",
    "            nLiteralWrong += 1\n",
    "        elif y_test[i] == \"resource\":\n",
    "            nResourceWrong += 1\n",
    "    \n",
    "    if y_test[i] == \"boolean\":\n",
    "         nBool += 1\n",
    "    elif y_test[i] == \"literal\":\n",
    "         nLiteral += 1\n",
    "    elif y_test[i] == \"resource\":\n",
    "        nResource += 1"
   ]
  },
  {
   "cell_type": "code",
   "execution_count": 7,
   "metadata": {},
   "outputs": [],
   "source": [
    "nCategories = [nBool, nLiteral, nResource]\n",
    "nWrong = [nBoolWrong, nLiteralWrong, nResourceWrong]\n",
    "nProp = [x/y for x, y in zip(nWrong, nCategories)]"
   ]
  },
  {
   "cell_type": "code",
   "execution_count": 8,
   "metadata": {},
   "outputs": [
    {
     "data": {
      "image/png": "[encoded data removed]",
      "text/plain": [
       "<Figure size 360x360 with 1 Axes>"
      ]
     },
     "metadata": {
      "needs_background": "light"
     },
     "output_type": "display_data"
    }
   ],
   "source": [
    "import matplotlib.pyplot as plt\n",
    "fig = plt.figure(figsize=(5,5))\n",
    "ax = fig.add_axes([0,0,1,1])\n",
    "labels = ['Boolean', 'Literal', 'Resource']\n",
    "ax.bar(labels,nProp, color=\"grey\", width=0.5)\n",
    "ax.set_ylabel('Scores')\n",
    "plt.show()"
   ]
  },
  {
   "cell_type": "markdown",
   "metadata": {},
   "source": [
    "## Classify the type"
   ]
  },
  {
   "cell_type": "code",
   "execution_count": 9,
   "metadata": {},
   "outputs": [],
   "source": [
    "clf_type_literal = pickle.load(open('type_literal_classifier.sav', 'rb'))"
   ]
  },
  {
   "cell_type": "code",
   "execution_count": 10,
   "metadata": {},
   "outputs": [],
   "source": [
    "def split_bool_literal_reference(X, y):\n",
    "    bool_map = {}\n",
    "    literal_map = {}\n",
    "    resource_map = {}\n",
    "\n",
    "    for i in range(len(y)):\n",
    "        if y[i] == 'boolean':\n",
    "            bool_map[i] = X[i]\n",
    "        elif y[i] == 'literal':\n",
    "            literal_map[i] = X[i]\n",
    "        elif y[i] == 'resource':\n",
    "            resource_map[i] = X[i]\n",
    "            \n",
    "    return bool_map, literal_map, resource_map"
   ]
  },
  {
   "cell_type": "code",
   "execution_count": 11,
   "metadata": {},
   "outputs": [],
   "source": [
    "bool_map, literal_map, resource_map = split_bool_literal_reference(X_test, pred_category)"
   ]
  },
  {
   "cell_type": "code",
   "execution_count": 12,
   "metadata": {},
   "outputs": [],
   "source": [
    "X_test_literal = list(literal_map.values())\n",
    "y_test_literal = []\n",
    "for i in list(literal_map.keys()):\n",
    "    y_test_literal.append(test[i]['type'][0])"
   ]
  },
  {
   "cell_type": "code",
   "execution_count": 13,
   "metadata": {},
   "outputs": [],
   "source": [
    "test_vectors_literal = utils.transform_dataset(X_test_literal, 'literal_vectorizer.sav')"
   ]
  },
  {
   "cell_type": "code",
   "execution_count": 14,
   "metadata": {},
   "outputs": [
    {
     "name": "stdout",
     "output_type": "stream",
     "text": [
      "Accuracy: 0.8787128712871287\n"
     ]
    }
   ],
   "source": [
    "pred_literal = clf_type_literal.predict(test_vectors_literal)\n",
    "print(\"Accuracy:\", sum(pred_literal==y_test_literal)/len(pred_literal))"
   ]
  },
  {
   "cell_type": "markdown",
   "metadata": {},
   "source": [
    "## Bundle"
   ]
  },
  {
   "cell_type": "code",
   "execution_count": 15,
   "metadata": {},
   "outputs": [
    {
     "data": {
      "text/plain": [
       "{'name': 'DESKTOP-JA1LK0U',\n",
       " 'cluster_name': 'elasticsearch',\n",
       " 'cluster_uuid': 'PBepFijXTgGNWra55N7P7g',\n",
       " 'version': {'number': '7.9.1',\n",
       "  'build_flavor': 'default',\n",
       "  'build_type': 'zip',\n",
       "  'build_hash': '083627f112ba94dffc1232e8b42b73492789ef91',\n",
       "  'build_date': '2020-09-01T21:22:21.964974Z',\n",
       "  'build_snapshot': False,\n",
       "  'lucene_version': '8.6.2',\n",
       "  'minimum_wire_compatibility_version': '6.8.0',\n",
       "  'minimum_index_compatibility_version': '6.0.0-beta1'},\n",
       " 'tagline': 'You Know, for Search'}"
      ]
     },
     "execution_count": 15,
     "metadata": {},
     "output_type": "execute_result"
    }
   ],
   "source": [
    "es = Elasticsearch()\n",
    "INDEX_NAME = 'questions'\n",
    "es.info()"
   ]
  },
  {
   "cell_type": "code",
   "execution_count": 16,
   "metadata": {
    "scrolled": true
   },
   "outputs": [
    {
     "data": {
      "text/plain": [
       "[{'_index': 'questions',\n",
       "  '_type': '_doc',\n",
       "  '_id': 'dbpedia_16642',\n",
       "  '_score': 9.011995,\n",
       "  '_source': {'question': 'Who manufactures Coca-Cola?',\n",
       "   'category': 'resource',\n",
       "   'type': ['dbo:Company', 'dbo:Organisation', 'dbo:Agent']}},\n",
       " {'_index': 'questions',\n",
       "  '_type': '_doc',\n",
       "  '_id': 'dbpedia_3697',\n",
       "  '_score': 7.914068,\n",
       "  '_source': {'question': 'What products does Coca-Cola produce?',\n",
       "   'category': 'resource',\n",
       "   'type': ['dbo:Company', 'dbo:Organisation', 'dbo:Agent']}}]"
      ]
     },
     "execution_count": 16,
     "metadata": {},
     "output_type": "execute_result"
    }
   ],
   "source": [
    "q = 'Is cola healthy?'\n",
    "\n",
    "es.search(index=INDEX_NAME, q=q, _source=True, size=2).get('hits', {}).get('hits', {})"
   ]
  },
  {
   "cell_type": "code",
   "execution_count": 17,
   "metadata": {},
   "outputs": [
    {
     "data": {
      "text/plain": [
       "[('Conqueror', 0.9905463457107544),\n",
       " ('Hotel', 0.9893677830696106),\n",
       " ('patron', 0.9886565804481506),\n",
       " ('line', 0.9868284463882446),\n",
       " ('ground', 0.9866505265235901),\n",
       " ('airport', 0.9864086508750916),\n",
       " ('architect', 0.9858438372612),\n",
       " ('saint', 0.9854694604873657),\n",
       " ('Tokyo', 0.9853686094284058),\n",
       " ('begins', 0.9853509664535522)]"
      ]
     },
     "execution_count": 17,
     "metadata": {},
     "output_type": "execute_result"
    }
   ],
   "source": [
    "stop_words = set(stopwords.words('english'))\n",
    "word2vec_sg = pickle.load(open('word2vec_sg.sav', 'rb'))\n",
    "word2vec_sg.wv.most_similar('church') # Check if working"
   ]
  },
  {
   "cell_type": "code",
   "execution_count": 18,
   "metadata": {},
   "outputs": [],
   "source": [
    "def predict_resource_types(es, testdata, index, model, index_name='questions', size=5):\n",
    "    q = testdata[index]['question']\n",
    "    q = \" \".join([w for w in word_tokenize(q)  if not w in stop_words])\n",
    "    results = []\n",
    "    try:\n",
    "        results = es.search(index=index_name, q=q, _source=True, size=size).get('hits', {}).get('hits', {})\n",
    "    except:\n",
    "        return []\n",
    "    types = set([])\n",
    "    for result in results:\n",
    "        for t in result['_source']['type']:\n",
    "            if len(t.split()) == 1:\n",
    "                types.add(t)\n",
    "\n",
    "    q_terms = q.split() # Question terms\n",
    "    t_terms = list(types) # Types from search\n",
    "    pred_types = set([])\n",
    "     \n",
    "    return predictTypes(model, q_terms, t_terms)\n",
    "\n",
    "#     for i in q_terms:\n",
    "#         for j in t_terms:\n",
    "#             try:\n",
    "#                 score = model.wv.similarity(i, j[4:])\n",
    "#                 if score > threshold:\n",
    "#                     pred_types.add(j)\n",
    "#     #                 print(i, j, score)\n",
    "#             except:\n",
    "#                 pass\n",
    "\n",
    "#     return list(pred_types)"
   ]
  },
  {
   "cell_type": "code",
   "execution_count": 19,
   "metadata": {},
   "outputs": [],
   "source": [
    "def predictTypes(model, q_terms, t_terms, nTerms=5):\n",
    "    threshold = 1.0\n",
    "    pred_types = set([])\n",
    "    while len(pred_types) < nTerms:\n",
    "        for i in q_terms:\n",
    "            for j in t_terms:\n",
    "                try:\n",
    "                    score = model.wv.similarity(i, j[4:])\n",
    "                    if score > threshold:\n",
    "                        pred_types.add(j)\n",
    "                except:\n",
    "                    pass\n",
    "        threshold -= 0.05\n",
    "        if threshold < 0.6:\n",
    "            break\n",
    "#     if len(pred_types) > 5:\n",
    "#         return list(pred_types)[0:6]\n",
    "    return list(pred_types)"
   ]
  },
  {
   "cell_type": "code",
   "execution_count": 20,
   "metadata": {},
   "outputs": [
    {
     "data": {
      "text/plain": [
       "['dbo:Album', 'dbo:MusicalWork', 'dbo:Award', 'dbo:Work']"
      ]
     },
     "execution_count": 20,
     "metadata": {},
     "output_type": "execute_result"
    }
   ],
   "source": [
    "predict_resource_types(es, test, 1431, word2vec_sg)"
   ]
  },
  {
   "cell_type": "code",
   "execution_count": 22,
   "metadata": {},
   "outputs": [],
   "source": [
    "type_preds = []\n",
    "count_literal = 0\n",
    "for i in range(len(test)):\n",
    "    \n",
    "    if i in bool_map:\n",
    "        type_preds.append(['boolean'])\n",
    "    if i in literal_map:\n",
    "        type_preds.append([pred_literal[count_literal]])\n",
    "        count_literal += 1\n",
    "    if i in resource_map:\n",
    "        type_preds.append(predict_resource_types(es, test, i, word2vec_sg))"
   ]
  },
  {
   "cell_type": "code",
   "execution_count": 23,
   "metadata": {},
   "outputs": [
    {
     "data": {
      "text/plain": [
       "[['number'],\n",
       " ['dbo:Company',\n",
       "  'dbo:Single',\n",
       "  'dbo:MusicalWork',\n",
       "  'dbo:Work',\n",
       "  'dbo:RecordLabel'],\n",
       " ['number'],\n",
       " ['boolean'],\n",
       " ['string']]"
      ]
     },
     "execution_count": 23,
     "metadata": {},
     "output_type": "execute_result"
    }
   ],
   "source": [
    "type_preds[0:5]"
   ]
  },
  {
   "cell_type": "code",
   "execution_count": 25,
   "metadata": {},
   "outputs": [
    {
     "data": {
      "text/plain": [
       "['dbo:Company', 'dbo:Single', 'dbo:MusicalWork', 'dbo:Work', 'dbo:RecordLabel']"
      ]
     },
     "execution_count": 25,
     "metadata": {},
     "output_type": "execute_result"
    }
   ],
   "source": [
    "predict_resource_types(es, test, 1, word2vec_sg)"
   ]
  },
  {
   "cell_type": "code",
   "execution_count": 26,
   "metadata": {},
   "outputs": [],
   "source": [
    "y_test_types = []\n",
    "    \n",
    "for doc in test:\n",
    "    y_test_types.append(doc['type'])"
   ]
  },
  {
   "cell_type": "code",
   "execution_count": 27,
   "metadata": {},
   "outputs": [],
   "source": [
    "preds = utils.load_dataset('datasets/DBpedia/test.json')\n",
    "for i, doc in enumerate(preds):\n",
    "    \n",
    "    if i in bool_map:\n",
    "        doc['category'] = 'boolean'\n",
    "    if i in literal_map:\n",
    "        doc['category'] = 'literal'\n",
    "    if i in resource_map:\n",
    "        doc['category'] = 'resource'\n",
    "    doc['type'] = type_preds[i]\n",
    "\n",
    "with open('datasets/DBpedia/preds.json', 'w') as file:\n",
    "    json.dump(preds, file, indent=4)"
   ]
  },
  {
   "cell_type": "code",
   "execution_count": null,
   "metadata": {
    "scrolled": true
   },
   "outputs": [],
   "source": [
    "# score = 0\n",
    "# bool_score = 0\n",
    "# literal_score = 0\n",
    "# resource_score_penalty = 0\n",
    "# resource_score_no_penalty = 0\n",
    "# resource_score_min_1_correct = 0\n",
    "# for i in range(len(test)):\n",
    "#     if i in bool_map:\n",
    "#         score += type_preds[i] == y_test_types[i][0]\n",
    "#         bool_score += type_preds[i] == y_test_types[i][0]\n",
    "#     if i in literal_map:\n",
    "#         score += type_preds[i] == y_test_types[i][0]\n",
    "#         literal_score += type_preds[i] == y_test_types[i][0]\n",
    "#     if i in resource_map:\n",
    "#         preds = type_preds[i]\n",
    "#         labels = y_test_types[i]\n",
    "#         sub_score = 0\n",
    "#         penalty = 0\n",
    "#         min_1_correct = False\n",
    "#         for pred in preds:\n",
    "#             if pred in labels:\n",
    "#                 sub_score += 1/len(labels)\n",
    "#                 min_1_correct = True\n",
    "#             else:\n",
    "#                 penalty += 1/len(labels)\n",
    "                \n",
    "#         resource_score_no_penalty += sub_score\n",
    "#         resource_score_penalty += max(sub_score - penalty, 0)\n",
    "#         if min_1_correct:\n",
    "#             resource_score_min_1_correct += 1\n",
    "#         score += max(sub_score, 0)\n",
    "        \n",
    "        \n",
    "# # print(score / len(y_test_types))\n",
    "# print(\"Individual category accuracy on their respective category subsets\")\n",
    "# print(\"Boolean accuracy:\", bool_score/ len(bool_map))\n",
    "# print(\"Literal accuracy:\", literal_score/ len(literal_map))\n",
    "# print(\"Resource min 1 correct accuracy:\", resource_score_min_1_correct/ len(resource_map))\n",
    "# print(\"Resource no penalty accuracy:\", resource_score_no_penalty/ len(resource_map))\n",
    "# print(\"Resource penalty accuracy:\", resource_score_penalty/ len(resource_map))\n",
    "# print()\n",
    "# print(\"Individual category accuracy on across entire test set\")\n",
    "# print(\"Boolean accuracy:\", bool_score/ len(y_test_types))\n",
    "# print(\"Literal accuracy:\", literal_score/ len(y_test_types))\n",
    "# print(\"Resource min 1 correct accuracy:\", resource_score_min_1_correct/ len(y_test_types))\n",
    "# print(\"Resource no penalty accuracy:\", resource_score_no_penalty/ len(y_test_types))\n",
    "# print(\"Resource penalty accuracy:\", resource_score_penalty/ len(y_test_types))\n",
    "# print()\n",
    "# print(\"Total score\")\n",
    "# print(\"Resource min 1 correct accuracy:\", (resource_score_min_1_correct + bool_score + literal_score)/ len(y_test_types))\n",
    "# print(\"Resource no penalty accuracy:\", (resource_score_no_penalty + bool_score + literal_score)/ len(y_test_types))\n",
    "# print(\"Resource penalty accuracy:\", (resource_score_penalty + bool_score + literal_score)/ len(y_test_types))"
   ]
  },
  {
   "cell_type": "markdown",
   "metadata": {},
   "source": [
    "Decisions made:\n",
    "\n",
    "* We used MLP for category classification because there are a known amount of labels (multi class classification)\n",
    "* Boolean category is always boolean type, so no need for further classification/ prediction\n",
    "* We used MLP for literal type classifications because there are a known amount of labels (multi class classification)\n",
    "* We use CountVectorizer because TFIDF penalize frequent words (who, what ...)\n",
    "* We use pickle to serialize MLP models and vectorizers\n",
    "* For resource, we start by looking for similar questions using elasticsearch (bm25)\n",
    "* Use skip-gram word2vec embedding to cross-reference types found in search and terms in query\n",
    "* Skip-gram predict the context better than CBOW (CBOW often have meaningless predictions)\n",
    "* Mention that we ignore types that are more than one word due to limitations in word2vec\n",
    "* Boolean and literal types have a strict scoring (0 or 1)\n",
    "* Have not decided how to score resource types (+/- proportion of terms)"
   ]
  },
  {
   "cell_type": "markdown",
   "metadata": {},
   "source": [
    "TODO:\n",
    "* Optimize MLP models\n",
    "* Improve implementation of resource scoring\n",
    "* Extend the indexed text by concatenating description of the types\n",
    "* Type hierarchy\n",
    "* Try dbpedia\n",
    "\n",
    "* How we concatenate question and types in word2vec have a major impact on performance\n"
   ]
  }
 ],
 "metadata": {
  "kernelspec": {
   "display_name": "Python 3",
   "language": "python",
   "name": "python3"
  },
  "language_info": {
   "codemirror_mode": {
    "name": "ipython",
    "version": 3
   },
   "file_extension": ".py",
   "mimetype": "text/x-python",
   "name": "python",
   "nbconvert_exporter": "python",
   "pygments_lexer": "ipython3",
   "version": "3.8.3"
  }
 },
 "nbformat": 4,
 "nbformat_minor": 4
}
