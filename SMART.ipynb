{
 "cells": [
  {
   "cell_type": "markdown",
   "metadata": {},
   "source": [
    "# SMART\n",
    "This file loads the trained category and type classifiers. The predicts and evaluate the results."
   ]
  },
  {
   "cell_type": "code",
   "execution_count": 1,
   "metadata": {},
   "outputs": [],
   "source": [
    "import utils\n",
    "import pickle\n",
    "import gensim \n",
    "from gensim.models import Word2Vec "
   ]
  },
  {
   "cell_type": "markdown",
   "metadata": {},
   "source": [
    "## Classify the category"
   ]
  },
  {
   "cell_type": "code",
   "execution_count": 2,
   "metadata": {},
   "outputs": [],
   "source": [
    "clf_category = pickle.load(open('category_classifier.sav', 'rb'))"
   ]
  },
  {
   "cell_type": "code",
   "execution_count": 3,
   "metadata": {},
   "outputs": [],
   "source": [
    "test = utils.load_dataset('../smart-dataset/datasets/Wikidata/lcquad2_anstype_wikidata_test_gold.json')"
   ]
  },
  {
   "cell_type": "code",
   "execution_count": 4,
   "metadata": {},
   "outputs": [],
   "source": [
    "_, _, X_test, y_test = utils.prepare_X_y({}, test)\n",
    "test_vectors = utils.transform_dataset(X_test, 'category_vectorizer.sav')"
   ]
  },
  {
   "cell_type": "code",
   "execution_count": 5,
   "metadata": {},
   "outputs": [
    {
     "name": "stdout",
     "output_type": "stream",
     "text": [
      "Accuracy: 0.9022095821483264\n"
     ]
    }
   ],
   "source": [
    "pred_category = clf_category.predict(test_vectors)\n",
    "print(\"Accuracy:\", sum(pred_category==y_test)/len(pred_category))"
   ]
  },
  {
   "cell_type": "markdown",
   "metadata": {},
   "source": [
    "## Classify the type"
   ]
  },
  {
   "cell_type": "code",
   "execution_count": 6,
   "metadata": {},
   "outputs": [],
   "source": [
    "clf_type_literal = pickle.load(open('type_literal_classifier.sav', 'rb'))\n",
    "word2vec_sg = pickle.load(open('word2vec_sg.sav', 'rb'))"
   ]
  },
  {
   "cell_type": "code",
   "execution_count": 7,
   "metadata": {},
   "outputs": [
    {
     "data": {
      "text/plain": [
       "[('carbonated', 0.9915328025817871),\n",
       " ('non-alcoholic', 0.988882303237915),\n",
       " ('soft', 0.9813560843467712),\n",
       " ('drink', 0.9802319407463074),\n",
       " ('airliner', 0.973507285118103),\n",
       " ('equipment', 0.9714939594268799),\n",
       " ('beverage', 0.9703865051269531),\n",
       " ('fraction', 0.967510461807251),\n",
       " ('low-cost', 0.96715247631073),\n",
       " ('motorcycle', 0.9666259288787842)]"
      ]
     },
     "execution_count": 7,
     "metadata": {},
     "output_type": "execute_result"
    }
   ],
   "source": [
    "word2vec_sg.wv.most_similar('cola')"
   ]
  },
  {
   "cell_type": "code",
   "execution_count": 8,
   "metadata": {},
   "outputs": [],
   "source": [
    "def split_bool_literal_reference(X, y):\n",
    "    bool_map = {}\n",
    "    literal_map = {}\n",
    "    resource_map = {}\n",
    "\n",
    "    for i in range(len(y)):\n",
    "        if y[i] == 'boolean':\n",
    "            bool_map[i] = X[i]\n",
    "        elif y[i] == 'literal':\n",
    "            literal_map[i] = X[i]\n",
    "        elif y[i] == 'resource':\n",
    "            resource_map[i] = X[i]\n",
    "            \n",
    "    return bool_map, literal_map, resource_map"
   ]
  },
  {
   "cell_type": "code",
   "execution_count": 9,
   "metadata": {},
   "outputs": [],
   "source": [
    "bool_map, literal_map, resource_map = split_bool_literal_reference(X_test, pred_category)\n"
   ]
  },
  {
   "cell_type": "code",
   "execution_count": 10,
   "metadata": {},
   "outputs": [],
   "source": [
    "   \n",
    "X_test_literal = list(literal_map.values())\n",
    "y_test_literal = []\n",
    "for i in list(literal_map.keys()):\n",
    "    y_test_literal.append(test[i]['type'][0])"
   ]
  },
  {
   "cell_type": "code",
   "execution_count": 11,
   "metadata": {},
   "outputs": [],
   "source": [
    "test_vectors_literal = utils.transform_dataset(X_test_literal, 'literal_vectorizer.sav')"
   ]
  },
  {
   "cell_type": "code",
   "execution_count": 12,
   "metadata": {},
   "outputs": [
    {
     "name": "stdout",
     "output_type": "stream",
     "text": [
      "Accuracy: 0.8540596094552929\n"
     ]
    }
   ],
   "source": [
    "pred_literal = clf_type_literal.predict(test_vectors_literal)\n",
    "print(\"Accuracy:\", sum(pred_literal==y_test_literal)/len(pred_literal))"
   ]
  },
  {
   "cell_type": "code",
   "execution_count": null,
   "metadata": {},
   "outputs": [],
   "source": []
  },
  {
   "cell_type": "code",
   "execution_count": null,
   "metadata": {},
   "outputs": [],
   "source": []
  },
  {
   "cell_type": "code",
   "execution_count": null,
   "metadata": {},
   "outputs": [],
   "source": []
  }
 ],
 "metadata": {
  "kernelspec": {
   "display_name": "Python 3",
   "language": "python",
   "name": "python3"
  },
  "language_info": {
   "codemirror_mode": {
    "name": "ipython",
    "version": 3
   },
   "file_extension": ".py",
   "mimetype": "text/x-python",
   "name": "python",
   "nbconvert_exporter": "python",
   "pygments_lexer": "ipython3",
   "version": "3.8.3"
  }
 },
 "nbformat": 4,
 "nbformat_minor": 4
}
