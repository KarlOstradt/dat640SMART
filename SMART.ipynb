{
 "cells": [
  {
   "cell_type": "markdown",
   "metadata": {},
   "source": [
    "# SMART\n",
    "This file loads the trained category and type classifiers. The predicts and evaluate the results."
   ]
  },
  {
   "cell_type": "code",
   "execution_count": 24,
   "metadata": {},
   "outputs": [],
   "source": [
    "import utils\n",
    "import pickle\n",
    "import numpy as np\n",
    "import gensim \n",
    "from gensim.models import Word2Vec \n",
    "from nltk.tokenize import word_tokenize \n",
    "from nltk.corpus import stopwords \n",
    "from elasticsearch import Elasticsearch"
   ]
  },
  {
   "cell_type": "markdown",
   "metadata": {},
   "source": [
    "## Classify the category"
   ]
  },
  {
   "cell_type": "code",
   "execution_count": 2,
   "metadata": {},
   "outputs": [],
   "source": [
    "clf_category = pickle.load(open('category_classifier.sav', 'rb'))"
   ]
  },
  {
   "cell_type": "code",
   "execution_count": 3,
   "metadata": {},
   "outputs": [],
   "source": [
    "test = utils.load_dataset('../smart-dataset/datasets/Wikidata/lcquad2_anstype_wikidata_test_gold.json')"
   ]
  },
  {
   "cell_type": "code",
   "execution_count": 4,
   "metadata": {},
   "outputs": [],
   "source": [
    "_, _, X_test, y_test = utils.prepare_X_y({}, test)\n",
    "test_vectors = utils.transform_dataset(X_test, 'category_vectorizer.sav')"
   ]
  },
  {
   "cell_type": "code",
   "execution_count": 5,
   "metadata": {},
   "outputs": [
    {
     "name": "stdout",
     "output_type": "stream",
     "text": [
      "Accuracy: 0.9022095821483264\n"
     ]
    }
   ],
   "source": [
    "pred_category = clf_category.predict(test_vectors)\n",
    "print(\"Accuracy:\", sum(pred_category==y_test)/len(pred_category))"
   ]
  },
  {
   "cell_type": "markdown",
   "metadata": {},
   "source": [
    "## Classify the type"
   ]
  },
  {
   "cell_type": "code",
   "execution_count": 6,
   "metadata": {},
   "outputs": [],
   "source": [
    "clf_type_literal = pickle.load(open('type_literal_classifier.sav', 'rb'))\n"
   ]
  },
  {
   "cell_type": "code",
   "execution_count": 8,
   "metadata": {},
   "outputs": [],
   "source": [
    "def split_bool_literal_reference(X, y):\n",
    "    bool_map = {}\n",
    "    literal_map = {}\n",
    "    resource_map = {}\n",
    "\n",
    "    for i in range(len(y)):\n",
    "        if y[i] == 'boolean':\n",
    "            bool_map[i] = X[i]\n",
    "        elif y[i] == 'literal':\n",
    "            literal_map[i] = X[i]\n",
    "        elif y[i] == 'resource':\n",
    "            resource_map[i] = X[i]\n",
    "            \n",
    "    return bool_map, literal_map, resource_map"
   ]
  },
  {
   "cell_type": "code",
   "execution_count": 9,
   "metadata": {},
   "outputs": [],
   "source": [
    "bool_map, literal_map, resource_map = split_bool_literal_reference(X_test, pred_category)\n"
   ]
  },
  {
   "cell_type": "code",
   "execution_count": 10,
   "metadata": {},
   "outputs": [],
   "source": [
    "   \n",
    "X_test_literal = list(literal_map.values())\n",
    "y_test_literal = []\n",
    "for i in list(literal_map.keys()):\n",
    "    y_test_literal.append(test[i]['type'][0])"
   ]
  },
  {
   "cell_type": "code",
   "execution_count": 11,
   "metadata": {},
   "outputs": [],
   "source": [
    "test_vectors_literal = utils.transform_dataset(X_test_literal, 'literal_vectorizer.sav')"
   ]
  },
  {
   "cell_type": "code",
   "execution_count": 12,
   "metadata": {},
   "outputs": [
    {
     "name": "stdout",
     "output_type": "stream",
     "text": [
      "Accuracy: 0.8540596094552929\n"
     ]
    }
   ],
   "source": [
    "pred_literal = clf_type_literal.predict(test_vectors_literal)\n",
    "print(\"Accuracy:\", sum(pred_literal==y_test_literal)/len(pred_literal))"
   ]
  },
  {
   "cell_type": "code",
   "execution_count": null,
   "metadata": {},
   "outputs": [],
   "source": []
  },
  {
   "cell_type": "markdown",
   "metadata": {},
   "source": [
    "## Bundle"
   ]
  },
  {
   "cell_type": "code",
   "execution_count": 26,
   "metadata": {},
   "outputs": [],
   "source": [
    "es = Elasticsearch()\n",
    "INDEX_NAME = 'questions'\n",
    "es.info()"
   ]
  },
  {
   "cell_type": "code",
   "execution_count": 27,
   "metadata": {
    "scrolled": true
   },
   "outputs": [
    {
     "data": {
      "text/plain": [
       "[{'_index': 'questions',\n",
       "  '_type': '_doc',\n",
       "  '_id': '30077',\n",
       "  '_score': 8.535293,\n",
       "  '_source': {'question': 'Tell me about cola for product or material produced of The Coca-Cola Company?',\n",
       "   'category': 'resource',\n",
       "   'type': ['goods', 'physical object', 'class', 'trademark', 'soft drink']}},\n",
       " {'_index': 'questions',\n",
       "  '_type': '_doc',\n",
       "  '_id': '24488',\n",
       "  '_score': 7.8734784,\n",
       "  '_source': {'question': 'which cola starts with the letter p',\n",
       "   'category': 'resource',\n",
       "   'type': ['soft drink',\n",
       "    'trademark',\n",
       "    'carbonated beverage',\n",
       "    'non-alcoholic beverage',\n",
       "    'symbol',\n",
       "    'class',\n",
       "    'protected name',\n",
       "    'intellectual property',\n",
       "    'sign']}},\n",
       " {'_index': 'questions',\n",
       "  '_type': '_doc',\n",
       "  '_id': '22455',\n",
       "  '_score': 7.3887763,\n",
       "  '_source': {'question': 'Which is the corporation for the products produced by Coca-Cola?',\n",
       "   'category': 'resource',\n",
       "   'type': ['juridical person',\n",
       "    'company',\n",
       "    'separate legal entity',\n",
       "    'legal form']}},\n",
       " {'_index': 'questions',\n",
       "  '_type': '_doc',\n",
       "  '_id': '21891',\n",
       "  '_score': 7.3887763,\n",
       "  '_source': {'question': 'What products does Coca-Cola produce?',\n",
       "   'category': 'resource',\n",
       "   'type': ['enterprise',\n",
       "    'organization',\n",
       "    'company',\n",
       "    'joint-stock company',\n",
       "    'economic unit',\n",
       "    'business']}},\n",
       " {'_index': 'questions',\n",
       "  '_type': '_doc',\n",
       "  '_id': '22454',\n",
       "  '_score': 7.3887763,\n",
       "  '_source': {'question': 'What does the Coca-Cola Company manufacture?',\n",
       "   'category': 'resource',\n",
       "   'type': ['carbonated beverage',\n",
       "    'trademark',\n",
       "    'non-alcoholic beverage',\n",
       "    'class',\n",
       "    'cola',\n",
       "    'diet soda']}}]"
      ]
     },
     "execution_count": 27,
     "metadata": {},
     "output_type": "execute_result"
    }
   ],
   "source": [
    "q = 'Is cola healthy?'\n",
    "\n",
    "es.search(index=INDEX_NAME, q=q, _source=True, size=2).get('hits', {}).get('hits', {})"
   ]
  },
  {
   "cell_type": "code",
   "execution_count": 23,
   "metadata": {},
   "outputs": [],
   "source": [
    "stop_words = set(stopwords.words('english'))\n",
    "word2vec_sg = pickle.load(open('word2vec_sg.sav', 'rb'))\n",
    "word2vec_sg.wv.most_similar('cola') # Check if working"
   ]
  },
  {
   "cell_type": "code",
   "execution_count": 63,
   "metadata": {},
   "outputs": [],
   "source": [
    "def predict_resource_types(es, index, model, index_name='questions', size=5, threshold=0.85):\n",
    "    q = test[index]['question']\n",
    "    q = \" \".join([w for w in word_tokenize(q)  if not w in stop_words])\n",
    "    results = []\n",
    "    try:\n",
    "        results = es.search(index=index_name, q=q, _source=True, size=size).get('hits', {}).get('hits', {})\n",
    "    except:\n",
    "        return []\n",
    "    types = set([])\n",
    "    for result in results:\n",
    "        for t in result['_source']['type']:\n",
    "            if len(t.split()) == 1:\n",
    "                types.add(t)\n",
    "\n",
    "    q_terms = q.split() # Question terms\n",
    "    t_terms = list(types) # Types from search\n",
    "    pred_types = set([])\n",
    "\n",
    "    for i in q_terms:\n",
    "        for j in t_terms:\n",
    "            try:\n",
    "                score = model.wv.similarity(i, j)\n",
    "                if score > threshold:\n",
    "                    pred_types.add(j)\n",
    "    #                 print(i, j, score)\n",
    "            except:\n",
    "                pass\n",
    "\n",
    "    return list(pred_types)"
   ]
  },
  {
   "cell_type": "code",
   "execution_count": 47,
   "metadata": {},
   "outputs": [
    {
     "data": {
      "text/plain": [
       "['measure']"
      ]
     },
     "execution_count": 47,
     "metadata": {},
     "output_type": "execute_result"
    }
   ],
   "source": [
    "\n",
    "predict_resource_types(es, 1431, word2vec_sg, threshold=0.85)"
   ]
  },
  {
   "cell_type": "code",
   "execution_count": 48,
   "metadata": {},
   "outputs": [
    {
     "data": {
      "text/plain": [
       "{'id': 29188,\n",
       " 'question': \"Which is measured by Young's modulus?\",\n",
       " 'category': 'resource',\n",
       " 'type': ['SI unit', 'unit of measurement', 'SI derived unit']}"
      ]
     },
     "execution_count": 48,
     "metadata": {},
     "output_type": "execute_result"
    }
   ],
   "source": [
    "test[1431]"
   ]
  },
  {
   "cell_type": "code",
   "execution_count": 79,
   "metadata": {},
   "outputs": [],
   "source": [
    "type_preds = []\n",
    "count_literal = 0\n",
    "for i in range(len(test)):\n",
    "    \n",
    "    if i in bool_map:\n",
    "        type_preds.append('boolean')\n",
    "    if i in literal_map:\n",
    "        type_preds.append(pred_literal[count_literal])\n",
    "        count_literal += 1\n",
    "    if i in resource_map:\n",
    "        type_preds.append(predict_resource_types(es, i, word2vec_sg, threshold=0.85))"
   ]
  },
  {
   "cell_type": "code",
   "execution_count": 53,
   "metadata": {},
   "outputs": [],
   "source": [
    "y_test_types = []\n",
    "    \n",
    "for doc in test:\n",
    "    y_test_types.append(doc['type'])"
   ]
  },
  {
   "cell_type": "code",
   "execution_count": 83,
   "metadata": {},
   "outputs": [
    {
     "data": {
      "text/plain": [
       "0.32242900803181723"
      ]
     },
     "execution_count": 83,
     "metadata": {},
     "output_type": "execute_result"
    }
   ],
   "source": [
    "score = 0\n",
    "for i in range(len(test)):\n",
    "    if i in bool_map:\n",
    "        score += type_preds[i] == y_test_types[i][0]\n",
    "    if i in literal_map:\n",
    "        score += type_preds[i] == y_test_types[i][0]\n",
    "    if i in resource_map:\n",
    "        preds = type_preds[i]\n",
    "        labels = y_test_types[i]\n",
    "        sub_score = 0\n",
    "        for pred in preds:\n",
    "            if pred in labels:\n",
    "                sub_score += 1/len(labels)\n",
    "            else:\n",
    "                sub_score -= 1/len(labels)\n",
    "        score += max(sub_score, 0)\n",
    "score / len(y_test_types)"
   ]
  },
  {
   "cell_type": "markdown",
   "metadata": {},
   "source": [
    "Decisions made:\n",
    "\n",
    "* We used MLP for category classification because there are a known amount of labels (multi class classification)\n",
    "* Boolean category is always boolean type, so no need for further classification/ prediction\n",
    "* We used MLP for literal type classifications because there are a known amount of labels (multi class classification)\n",
    "* We use CountVectorizer because TFIDF penalize frequent words (who, what ...)\n",
    "* We use pickle to serialize MLP models and vectorizers\n",
    "* For resource, we start by looking for similar questions using elasticsearch (bm25)\n",
    "* Use skip-gram word2vec embedding to cross-reference types found in search and terms in query\n",
    "* Skip-gram predict the context better than CBOW (CBOW often have meaningless predictions)\n",
    "* Mention that we ignore types that are more than one word due to limitations in word2vec\n",
    "* Boolean and literal types have a strict scoring (0 or 1)\n",
    "* Have not decided how to score resource types (+/- proportion of terms)"
   ]
  },
  {
   "cell_type": "markdown",
   "metadata": {},
   "source": [
    "TODO:\n",
    "* Optimize MLP models\n",
    "* Improve implementation of resource scoring\n",
    "* Extend the indexed text by concatenating description of the types\n",
    "* Type hierarchy\n",
    "* Try dbpedia\n",
    "\n",
    "* How we concatenate question and types in word2vec have a major impact on performance\n"
   ]
  }
 ],
 "metadata": {
  "kernelspec": {
   "display_name": "Python 3",
   "language": "python",
   "name": "python3"
  },
  "language_info": {
   "codemirror_mode": {
    "name": "ipython",
    "version": 3
   },
   "file_extension": ".py",
   "mimetype": "text/x-python",
   "name": "python",
   "nbconvert_exporter": "python",
   "pygments_lexer": "ipython3",
   "version": "3.8.3"
  }
 },
 "nbformat": 4,
 "nbformat_minor": 4
}
