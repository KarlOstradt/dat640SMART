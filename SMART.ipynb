{
 "cells": [
  {
   "cell_type": "markdown",
   "metadata": {},
   "source": [
    "# SMART\n",
    "This file loads the trained category and type classifiers. The predicts and evaluate the results."
   ]
  },
  {
   "cell_type": "code",
   "execution_count": 1,
   "metadata": {},
   "outputs": [],
   "source": [
    "import utils\n",
    "import pickle"
   ]
  },
  {
   "cell_type": "markdown",
   "metadata": {},
   "source": [
    "## Classify the category"
   ]
  },
  {
   "cell_type": "code",
   "execution_count": 2,
   "metadata": {},
   "outputs": [],
   "source": [
    "clf_category = pickle.load(open('category_classifier.sav', 'rb'))\n",
    "clf_type_literal = pickle.load(open('type_literal_classifier.sav', 'rb'))"
   ]
  },
  {
   "cell_type": "code",
   "execution_count": 4,
   "metadata": {},
   "outputs": [],
   "source": [
    "train = utils.load_dataset('../smart-dataset/datasets/Wikidata/lcquad2_anstype_wikidata_train.json')\n",
    "test = utils.load_dataset('../smart-dataset/datasets/Wikidata/lcquad2_anstype_wikidata_test_gold.json')"
   ]
  },
  {
   "cell_type": "code",
   "execution_count": 10,
   "metadata": {},
   "outputs": [],
   "source": [
    "X_train, y_train, X_test, y_test = utils.prepare_X_y(train, test)\n",
    "_, test_vectors = utils.extract_features(X_train, X_test)"
   ]
  },
  {
   "cell_type": "code",
   "execution_count": 7,
   "metadata": {},
   "outputs": [
    {
     "name": "stdout",
     "output_type": "stream",
     "text": [
      "Accuracy: 0.9022095821483264\n"
     ]
    }
   ],
   "source": [
    "pred_category = clf_category.predict(test_vectors)\n",
    "print(\"Accuracy:\", sum(pred_category==y_test)/len(pred_category))"
   ]
  },
  {
   "cell_type": "markdown",
   "metadata": {},
   "source": [
    "## Classify the type"
   ]
  },
  {
   "cell_type": "code",
   "execution_count": 8,
   "metadata": {},
   "outputs": [],
   "source": [
    "def split_bool_literal_reference(X, y):\n",
    "    bool_map = {}\n",
    "    literal_map = {}\n",
    "    resource_map = {}\n",
    "\n",
    "    for i in range(len(y)):\n",
    "        if y[i] == 'boolean':\n",
    "            bool_map[i] = X[i]\n",
    "        elif y[i] == 'literal':\n",
    "            literal_map[i] = X[i]\n",
    "        elif y[i] == 'resource':\n",
    "            resource_map[i] = X[i]\n",
    "            \n",
    "    return bool_map, literal_map, resource_map"
   ]
  },
  {
   "cell_type": "code",
   "execution_count": 9,
   "metadata": {},
   "outputs": [],
   "source": [
    "bool_map, literal_map, resource_map = split_bool_literal_reference(X_test, pred_category)\n",
    "# test_bool_map, test_literal_map, test_resource_map = split_bool_literal_reference(X_test, y_test)"
   ]
  },
  {
   "cell_type": "code",
   "execution_count": null,
   "metadata": {},
   "outputs": [],
   "source": [
    "X_train_literal = list(literal_map.values())\n",
    "y_train_literal = []\n",
    "for i in list(literal_map.keys()):\n",
    "    y_train_literal.append(train[i]['type'][0])\n",
    "    \n",
    "X_test_literal = list(test_literal_map.values())\n",
    "y_test_literal = []\n",
    "for i in list(test_literal_map.keys()):\n",
    "    y_test_literal.append(test[i]['type'][0])"
   ]
  },
  {
   "cell_type": "code",
   "execution_count": null,
   "metadata": {},
   "outputs": [],
   "source": [
    "train_vectors_literal, test_vectors_literal = utils.extract_features(X_train_literal, X_test_literal)"
   ]
  },
  {
   "cell_type": "code",
   "execution_count": null,
   "metadata": {},
   "outputs": [],
   "source": [
    "pred_literal = clf_type_literal.predict(test_vectors_literal)\n",
    "print(\"Accuracy:\", sum(pred_literal==y_test_literal)/len(pred_literal))"
   ]
  },
  {
   "cell_type": "code",
   "execution_count": null,
   "metadata": {},
   "outputs": [],
   "source": []
  },
  {
   "cell_type": "code",
   "execution_count": null,
   "metadata": {},
   "outputs": [],
   "source": []
  },
  {
   "cell_type": "code",
   "execution_count": null,
   "metadata": {},
   "outputs": [],
   "source": []
  }
 ],
 "metadata": {
  "kernelspec": {
   "display_name": "Python 3",
   "language": "python",
   "name": "python3"
  },
  "language_info": {
   "codemirror_mode": {
    "name": "ipython",
    "version": 3
   },
   "file_extension": ".py",
   "mimetype": "text/x-python",
   "name": "python",
   "nbconvert_exporter": "python",
   "pygments_lexer": "ipython3",
   "version": "3.8.3"
  }
 },
 "nbformat": 4,
 "nbformat_minor": 4
}
