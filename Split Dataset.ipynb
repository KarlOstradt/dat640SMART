{
 "cells": [
  {
   "cell_type": "markdown",
   "metadata": {},
   "source": [
    "# Split Dataset\n",
    "This notebook splits the original DBpedia training set into a new training and test set. The reason for this is because there is DBpedia test set with golden types."
   ]
  },
  {
   "cell_type": "code",
   "execution_count": 1,
   "metadata": {},
   "outputs": [],
   "source": [
    "import utils\n",
    "import numpy as np\n",
    "import json\n",
    "from sklearn.model_selection import train_test_split"
   ]
  },
  {
   "cell_type": "code",
   "execution_count": 2,
   "metadata": {},
   "outputs": [],
   "source": [
    "train_path = 'datasets/DBpedia/train.json'\n",
    "test_path = 'datasets/DBpedia/test.json'\n",
    "test_grnd_path = 'datasets/DBpedia/test_grnd.json'\n",
    "dataset_path = 'datasets/DBpedia/smarttask_dbpedia_train.json'\n",
    "dataset = utils.load_dataset(dataset_path)\n",
    "\n",
    "c = 0;\n",
    "idxs = []\n",
    "for doc in dataset:\n",
    "    if doc['question'] is None:\n",
    "        idxs.insert(0, c)\n",
    "    elif doc['type'] is None:\n",
    "        idxs.insert(0, c)\n",
    "    elif doc['category'] is None:\n",
    "        idxs.insert(0, c)\n",
    "    elif doc['id'] is None:\n",
    "        idxs.insert(0, c)\n",
    "    c += 1\n",
    "    \n",
    "# Remove objects with None types\n",
    "for i in idxs:\n",
    "    dataset.pop(i)"
   ]
  },
  {
   "cell_type": "code",
   "execution_count": 3,
   "metadata": {},
   "outputs": [],
   "source": [
    "train, test_grnd = train_test_split(dataset, shuffle=False, test_size=0.25)"
   ]
  },
  {
   "cell_type": "code",
   "execution_count": 4,
   "metadata": {},
   "outputs": [],
   "source": [
    "with open(train_path, 'w') as file:\n",
    "    json.dump(train, file, indent=4)\n",
    "with open(test_grnd_path, 'w') as file:\n",
    "    json.dump(test_grnd, file, indent=4)"
   ]
  },
  {
   "cell_type": "code",
   "execution_count": 5,
   "metadata": {},
   "outputs": [],
   "source": [
    "test = test_grnd\n",
    "for obj in test:\n",
    "    del obj['category']\n",
    "    del obj['type']\n",
    "with open(test_path, 'w') as file:\n",
    "    json.dump(test, file, indent=4)"
   ]
  }
 ],
 "metadata": {
  "kernelspec": {
   "display_name": "Python 3",
   "language": "python",
   "name": "python3"
  },
  "language_info": {
   "codemirror_mode": {
    "name": "ipython",
    "version": 3
   },
   "file_extension": ".py",
   "mimetype": "text/x-python",
   "name": "python",
   "nbconvert_exporter": "python",
   "pygments_lexer": "ipython3",
   "version": "3.8.3"
  }
 },
 "nbformat": 4,
 "nbformat_minor": 4
}
